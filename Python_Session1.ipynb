{
  "nbformat": 4,
  "nbformat_minor": 0,
  "metadata": {
    "colab": {
      "provenance": [],
      "toc_visible": true
    },
    "kernelspec": {
      "name": "python3",
      "display_name": "Python 3"
    },
    "language_info": {
      "name": "python"
    }
  },
  "cells": [
    {
      "cell_type": "markdown",
      "source": [
        "# 1. Introduction\n",
        "\n",
        "Welcome to Basic Python Coding session 1. We used google colab as it is a hosted Jupyter Notebook service that requires no setup to use and provides free access to computing resources, including GPUs and TPUs. You can run the play button the the left hand side of each code box to run the code, or press `shift + enter` to run the code.\n",
        "\n",
        "This tutorial aims to give you a favour of python. Python offers official documentation at [Documentation](https://docs.python.org/3/index.html). The official documentation is a useful reference book.\n",
        "\n"
      ],
      "metadata": {
        "id": "3_3FXHyuGYjh"
      }
    },
    {
      "cell_type": "markdown",
      "source": [
        "# 2. Python basics\n",
        "\n",
        "In this part, we will speak about:\n",
        "\n",
        "*  Variables\n",
        "*  List\n",
        "*  Disctionary\n",
        "*  Simple python 'sentences'\n",
        "*  User-defined functions ('paragraphs')\n",
        "*  Useful build-in functions"
      ],
      "metadata": {
        "id": "ZUfrFRxoJ3y6"
      }
    },
    {
      "cell_type": "markdown",
      "source": [
        "## 2.1 Variables\n",
        "\n",
        "Variables are containers for storing data values. Python has no command for declaring a variable. A variable is created the moment you first assign a value to it.\n",
        "\n",
        "Python has the following data types built-in by default, in these categories:\n",
        "\n",
        "* Text Type:\t`str`\n",
        "\n",
        "* Numeric Types:\t`int`, `float`, `complex`\n",
        "\n",
        "* Sequence Types:\t`list`, `tuple`, `range`\n",
        "\n",
        "* Mapping Type:\t`dict`\n",
        "\n",
        "* Set Types:\t`set`, `frozenset`\n",
        "\n",
        "* Boolean Type:\t`bool`\n",
        "\n",
        "* Binary Types:\t`bytes`, `bytearray`, `memoryview`\n",
        "\n",
        "* None Type:\t`NoneType`\n"
      ],
      "metadata": {
        "id": "xPNiAnKALwos"
      }
    },
    {
      "cell_type": "code",
      "source": [
        "x = 5\n",
        "y = \"John\"\n",
        "z = 3.14\n",
        "\n",
        "print(type(x))\n",
        "print(type(y))\n",
        "print(type(z))"
      ],
      "metadata": {
        "colab": {
          "base_uri": "https://localhost:8080/"
        },
        "id": "atUHfNRHKL7k",
        "outputId": "c8d9c43d-da0f-468d-e454-0a371a68bbc2"
      },
      "execution_count": 2,
      "outputs": [
        {
          "output_type": "stream",
          "name": "stdout",
          "text": [
            "<class 'int'>\n",
            "<class 'str'>\n",
            "<class 'float'>\n"
          ]
        }
      ]
    },
    {
      "cell_type": "markdown",
      "source": [],
      "metadata": {
        "id": "ROJPHxb8Lv8_"
      }
    },
    {
      "cell_type": "code",
      "source": [
        "# If you want to specify the data type of a variable, this can be done with casting.\n",
        "x = str(3)    # x will be '3'\n",
        "y = int(3)    # y will be 3\n",
        "z = float(3)  # z will be 3.0\n",
        "\n",
        "print(x)\n",
        "print(y)\n",
        "print(z)"
      ],
      "metadata": {
        "colab": {
          "base_uri": "https://localhost:8080/"
        },
        "id": "OPqdzPQHMbr_",
        "outputId": "fd71a2e0-ee91-42c9-bd4f-c3690305792d"
      },
      "execution_count": 3,
      "outputs": [
        {
          "output_type": "stream",
          "name": "stdout",
          "text": [
            "3\n",
            "3\n",
            "3.0\n"
          ]
        }
      ]
    },
    {
      "cell_type": "markdown",
      "source": [
        "### 2.1.1 String\n",
        "\n",
        "Strings in python are surrounded by either single quotation marks, or double quotation marks.\n",
        "\n",
        "`'hello'` is the same as `\"hello\"`.\n",
        "\n",
        "You can display a string literal with the print() function.\n",
        "\n",
        "You can concatenate strings by using `+`."
      ],
      "metadata": {
        "id": "gx3NaIsMNp-P"
      }
    },
    {
      "cell_type": "code",
      "source": [
        "x = \"Black\"\n",
        "y = \"Pink\"\n",
        "print(\"I am \", x + y)\n",
        "print(\"You cannot write me as\", x + \" \" + y)"
      ],
      "metadata": {
        "colab": {
          "base_uri": "https://localhost:8080/"
        },
        "id": "WWiMkdN9NnV4",
        "outputId": "a7099f9e-4333-44a1-818e-1333235b00dc"
      },
      "execution_count": 4,
      "outputs": [
        {
          "output_type": "stream",
          "name": "stdout",
          "text": [
            "I am  BlackPink\n",
            "You cannot write me as Black Pink\n"
          ]
        }
      ]
    },
    {
      "cell_type": "markdown",
      "source": [
        "You can return a range of characters by using the slice syntax.\n",
        "\n",
        "Specify the start index and the end index, separated by a colon, to return a part of the string.\n",
        "\n"
      ],
      "metadata": {
        "id": "Ha7jEWiSOrps"
      }
    },
    {
      "cell_type": "code",
      "source": [
        "b = \"Hello, World!\"\n",
        "print(b[2:5])"
      ],
      "metadata": {
        "colab": {
          "base_uri": "https://localhost:8080/"
        },
        "id": "rcYWNFuFOMDE",
        "outputId": "e19fc6ec-3d24-42fd-cbb2-d48b2062dbca"
      },
      "execution_count": 5,
      "outputs": [
        {
          "output_type": "stream",
          "name": "stdout",
          "text": [
            "llo\n"
          ]
        }
      ]
    },
    {
      "cell_type": "markdown",
      "source": [
        "F-String was introduced in Python 3.6, and is now the preferred way of formatting strings.\n",
        "\n",
        "To specify a string as an f-string, simply put an f in front of the string literal, and add curly brackets {} as placeholders for variables and other operations.\n",
        "\n",
        "> For more examples, pease checkout [String Formatting](https://realpython.com/python-string-formatting/)"
      ],
      "metadata": {
        "id": "PPrlIfJ3PQEW"
      }
    },
    {
      "cell_type": "code",
      "source": [
        "price = 59\n",
        "txt = f\"The price is {price:.2f} pounds\" # control decimal to show\n",
        "print(txt)"
      ],
      "metadata": {
        "colab": {
          "base_uri": "https://localhost:8080/"
        },
        "id": "5KyvCAn6Pgk6",
        "outputId": "e10c2595-a271-47f4-e8bb-d8ab2900fc40"
      },
      "execution_count": 6,
      "outputs": [
        {
          "output_type": "stream",
          "name": "stdout",
          "text": [
            "The price is 59.00 pounds\n"
          ]
        }
      ]
    },
    {
      "cell_type": "code",
      "source": [
        "price = 59\n",
        "txt = f\"The price is {price:06d} yen\" # padding with 0s\n",
        "print(txt)"
      ],
      "metadata": {
        "colab": {
          "base_uri": "https://localhost:8080/"
        },
        "id": "EC-Udu6XPjT4",
        "outputId": "1422173c-18c9-4e4c-c3e5-6828cfb8b1db"
      },
      "execution_count": 7,
      "outputs": [
        {
          "output_type": "stream",
          "name": "stdout",
          "text": [
            "The price is 000059 yen\n"
          ]
        }
      ]
    },
    {
      "cell_type": "markdown",
      "source": [
        "### 2.1.2 Booleans\n",
        "\n",
        "n programming you often need to know if an expression is `True` or `False`.\n",
        "\n",
        "You can evaluate any expression in Python, and get one of two answers, `True` or `False`.\n",
        "\n",
        "When you compare two values, the expression is evaluated and Python returns the Boolean answer:"
      ],
      "metadata": {
        "id": "j1vCqWPBRwY-"
      }
    },
    {
      "cell_type": "code",
      "source": [
        "print(10 > 9)\n",
        "print(10 == 9)\n",
        "print(10 < 9)"
      ],
      "metadata": {
        "colab": {
          "base_uri": "https://localhost:8080/"
        },
        "id": "TuuDFQtFSQLz",
        "outputId": "7f615fbd-a557-425d-fd3b-fe2220f93e95"
      },
      "execution_count": 8,
      "outputs": [
        {
          "output_type": "stream",
          "name": "stdout",
          "text": [
            "True\n",
            "False\n",
            "False\n"
          ]
        }
      ]
    },
    {
      "cell_type": "code",
      "source": [
        "a = 200\n",
        "b = 33\n",
        "\n",
        "if b > a:\n",
        "  print(\"b is greater than a\")\n",
        "else:\n",
        "  print(\"b is not greater than a\")"
      ],
      "metadata": {
        "colab": {
          "base_uri": "https://localhost:8080/"
        },
        "id": "0TSfdyqrSVcO",
        "outputId": "bc258a7a-5062-47e5-d2ea-e395bdd708d5"
      },
      "execution_count": 9,
      "outputs": [
        {
          "output_type": "stream",
          "name": "stdout",
          "text": [
            "b is not greater than a\n"
          ]
        }
      ]
    },
    {
      "cell_type": "markdown",
      "source": [],
      "metadata": {
        "id": "Jozp4ffiOwrW"
      }
    },
    {
      "cell_type": "markdown",
      "source": [
        "### 2.1.3 Operators\n",
        "\n",
        "Python divides the operators in the following groups:\n",
        "\n",
        "* Arithmetic operators\n",
        "* Assignment operators\n",
        "* Comparison operators\n",
        "* Logical operators\n",
        "* Identity operators\n",
        "* Membership operators\n",
        "* Bitwise operators\n",
        "\n",
        "> For more information, check out [Python Operators](https://www.w3schools.com/python/python_operators.asp)"
      ],
      "metadata": {
        "id": "36VkVf36SpmD"
      }
    },
    {
      "cell_type": "code",
      "source": [
        "# Arithmetic Operators\n",
        "x = 4\n",
        "y = 5.3\n",
        "\n",
        "print(x + y) # addition\n",
        "print(x * y) # multiplication\n",
        "print(x / y) # division\n",
        "print(x % y) # modulus\n",
        "print(x ** y) # exponentiation\n",
        "print(x // y) # floor division\n"
      ],
      "metadata": {
        "colab": {
          "base_uri": "https://localhost:8080/"
        },
        "id": "MQTG6XD3TYhr",
        "outputId": "9f9657ad-721e-46f8-a8c7-2ad1166c4f4c"
      },
      "execution_count": 10,
      "outputs": [
        {
          "output_type": "stream",
          "name": "stdout",
          "text": [
            "9.3\n",
            "21.2\n",
            "0.7547169811320755\n",
            "4.0\n",
            "1552.0937641066473\n",
            "0.0\n"
          ]
        }
      ]
    },
    {
      "cell_type": "code",
      "source": [
        "# Comparison Operators\n",
        "\n",
        "x = 4\n",
        "y = 5\n",
        "\n",
        "print(x == y) # equal\n",
        "print(x != y) # not equal\n",
        "print(x > y) # greater than\n",
        "print(x <= y) # less than or equal to"
      ],
      "metadata": {
        "colab": {
          "base_uri": "https://localhost:8080/"
        },
        "id": "M8nKwjnhT9qK",
        "outputId": "77ee6d5b-9478-4740-c8ad-22eef370007f"
      },
      "execution_count": 11,
      "outputs": [
        {
          "output_type": "stream",
          "name": "stdout",
          "text": [
            "False\n",
            "True\n",
            "False\n",
            "True\n"
          ]
        }
      ]
    },
    {
      "cell_type": "markdown",
      "source": [
        "## 2.2 List\n",
        "\n",
        "Lists are used to store multiple items in a single variable.\n",
        "\n",
        "List items are ordered, changeable, and allow duplicate values. List items are indexed, the first item has index `[0]`, the second item has index `[1]` etc.\n"
      ],
      "metadata": {
        "id": "VWMayM3QNcUm"
      }
    },
    {
      "cell_type": "code",
      "source": [
        "this_is_list = [\"apple\", \"banana\", \"cherry\", \"orange\", \"kiwi\", \"melon\", \"mango\"]\n",
        "\n",
        "print(this_is_list[1])\n",
        "print(this_is_list[-1]) # Negative indexing means start from the end. -1 refers to the last item, -2 refers to the second last item etc.\n",
        "print(this_is_list[2:4]) # You can specify a range of indexes by specifying where to start and where to end the range.\n",
        "print(this_is_list[4:])\n"
      ],
      "metadata": {
        "colab": {
          "base_uri": "https://localhost:8080/"
        },
        "id": "OuW6iu9pMfXh",
        "outputId": "a0b07e0e-1d61-411a-9025-c723221b7855"
      },
      "execution_count": 12,
      "outputs": [
        {
          "output_type": "stream",
          "name": "stdout",
          "text": [
            "banana\n",
            "mango\n",
            "['cherry', 'orange']\n",
            "['kiwi', 'melon', 'mango']\n"
          ]
        }
      ]
    },
    {
      "cell_type": "code",
      "source": [
        "# change list item\n",
        "thislist = [\"apple\", \"banana\", \"cherry\"]\n",
        "thislist[1] = \"blackcurrant\"\n",
        "print(thislist)"
      ],
      "metadata": {
        "colab": {
          "base_uri": "https://localhost:8080/"
        },
        "id": "mhc3tx7AWYBd",
        "outputId": "940a2358-075b-439a-946a-1b3d3bf0564d"
      },
      "execution_count": 13,
      "outputs": [
        {
          "output_type": "stream",
          "name": "stdout",
          "text": [
            "['apple', 'blackcurrant', 'cherry']\n"
          ]
        }
      ]
    },
    {
      "cell_type": "markdown",
      "source": [
        "Build-in list methods\n",
        "\n",
        "| Method | Description|\n",
        "| - | - |\n",
        "| append()\t| Adds an element at the end of the list|\n",
        "| clear() |\tRemoves all the elements from the list |\n",
        "| copy() | Returns a copy of the list |\n",
        "| count() |\tReturns the number of elements with the specified value |\n",
        "| extend() |\tAdd the elements of a list (or any iterable), to the end of the current list |\n",
        "| index() |\tReturns the index of the first element with the specified value |\n",
        "| insert() | Adds an element at the specified position |\n",
        "| pop() |\tRemoves the element at the specified position\n",
        "| remove() |\tRemoves the item with the specified value\n",
        "| reverse() |\tReverses the order of the list\n",
        "| sort() | Sorts the list"
      ],
      "metadata": {
        "id": "9jri8fJoXWA5"
      }
    },
    {
      "cell_type": "code",
      "source": [
        "# append list\n",
        "thislist = [\"apple\", \"banana\", \"cherry\"]\n",
        "thislist.append(\"orange\")\n",
        "print(thislist)"
      ],
      "metadata": {
        "colab": {
          "base_uri": "https://localhost:8080/"
        },
        "id": "sOtp77HOW9vG",
        "outputId": "992f1b0c-a9c8-468a-b87f-56721ebd73c1"
      },
      "execution_count": 14,
      "outputs": [
        {
          "output_type": "stream",
          "name": "stdout",
          "text": [
            "['apple', 'banana', 'cherry', 'orange']\n"
          ]
        }
      ]
    },
    {
      "cell_type": "code",
      "source": [
        "# remove an item in the list\n",
        "thislist = [\"apple\", \"banana\", \"cherry\"]\n",
        "thislist.remove(\"banana\")\n",
        "print(thislist)"
      ],
      "metadata": {
        "colab": {
          "base_uri": "https://localhost:8080/"
        },
        "id": "HXV5uTHiZC2c",
        "outputId": "c16153e7-8918-4e49-edd8-8974bbdfc6a7"
      },
      "execution_count": 15,
      "outputs": [
        {
          "output_type": "stream",
          "name": "stdout",
          "text": [
            "['apple', 'cherry']\n"
          ]
        }
      ]
    },
    {
      "cell_type": "code",
      "source": [
        "# sort a list\n",
        "thislist = [\"orange\", \"mango\", \"kiwi\", \"pineapple\", \"banana\"]\n",
        "thislist.sort()\n",
        "print(thislist) # strings sorted alphabetically\n",
        "\n",
        "thislist = [100, 50, 65, 82, 23]\n",
        "thislist.sort()\n",
        "print(thislist) # numbers sorted numerically"
      ],
      "metadata": {
        "colab": {
          "base_uri": "https://localhost:8080/"
        },
        "id": "XkysMTkPY6ZO",
        "outputId": "b51f046a-815d-424b-c667-7ca01c1d5c50"
      },
      "execution_count": 16,
      "outputs": [
        {
          "output_type": "stream",
          "name": "stdout",
          "text": [
            "['banana', 'kiwi', 'mango', 'orange', 'pineapple']\n",
            "[23, 50, 65, 82, 100]\n"
          ]
        }
      ]
    },
    {
      "cell_type": "markdown",
      "source": [
        "## 2.3 Dictionary\n",
        "\n",
        "Dictionaries are used to store data values in key:value pairs.\n",
        "\n",
        "A dictionary is a collection which is ordered*, changeable and do not allow duplicates.\n",
        "\n",
        "Dictionaries are written with curly brackets, and have keys and values:"
      ],
      "metadata": {
        "id": "q--Z2k6CZ9am"
      }
    },
    {
      "cell_type": "code",
      "source": [
        "thisdict = {\n",
        "  \"brand\": \"Ford\",\n",
        "  \"model\": \"Mustang\",\n",
        "  \"year\": 1964\n",
        "}\n",
        "print(thisdict[\"brand\"])"
      ],
      "metadata": {
        "colab": {
          "base_uri": "https://localhost:8080/"
        },
        "id": "LJ2HoHW2ZOuQ",
        "outputId": "feabff17-c118-4814-abf1-7bbdd896d3bb"
      },
      "execution_count": 17,
      "outputs": [
        {
          "output_type": "stream",
          "name": "stdout",
          "text": [
            "Ford\n"
          ]
        }
      ]
    },
    {
      "cell_type": "markdown",
      "source": [
        "You can loop through a dictionary by using a `for` loop.\n",
        "\n",
        "When looping through a dictionary, the return value are the keys of the dictionary, but there are methods to return the values as well."
      ],
      "metadata": {
        "id": "_opro8cbaedH"
      }
    },
    {
      "cell_type": "code",
      "source": [
        "for x in thisdict:\n",
        "  print(\"Key is:\", x, \"Value is:\", thisdict[x])"
      ],
      "metadata": {
        "colab": {
          "base_uri": "https://localhost:8080/"
        },
        "id": "vjB3GjOKaSFE",
        "outputId": "cc2fc615-9536-4e4f-c4b0-229f6cdda522"
      },
      "execution_count": 18,
      "outputs": [
        {
          "output_type": "stream",
          "name": "stdout",
          "text": [
            "Key is: brand Value is: Ford\n",
            "Key is: model Value is: Mustang\n",
            "Key is: year Value is: 1964\n"
          ]
        }
      ]
    },
    {
      "cell_type": "markdown",
      "source": [
        "Python has a set of built-in methods that you can use on dictionaries.\n",
        "\n",
        "|Method|Description|\n",
        "|-|-|\n",
        "|clear()|Removes all the elements from the dictionary|\n",
        "|copy()|Returns a copy of the dictionary|\n",
        "|fromkeys()|Returns a dictionary with the specified keys and value|\n",
        "|get()|Returns the value of the specified key|\n",
        "|items()|Returns a list containing a tuple for each key value pair|\n",
        "|keys()|Returns a list containing the dictionary's keys|\n",
        "|pop()|Removes the element with the specified key|\n",
        "|popitem()|Removes the last inserted key-value pair|\n",
        "|setdefault()|Returns the value of the specified key. If the key does not exist: insert the key, with the specified value|\n",
        "|update()|Updates the dictionary with the specified key-value pairs|\n",
        "|values()|Returns a list of all the values in the dictionary|\n"
      ],
      "metadata": {
        "id": "4VNtM2gta2ci"
      }
    },
    {
      "cell_type": "code",
      "source": [
        "# The pop() method removes the item with the specified key name:\n",
        "thisdict = {\n",
        "  \"brand\": \"Ford\",\n",
        "  \"model\": \"Mustang\",\n",
        "  \"year\": 1964\n",
        "}\n",
        "thisdict.pop(\"model\")\n",
        "print(thisdict)"
      ],
      "metadata": {
        "colab": {
          "base_uri": "https://localhost:8080/"
        },
        "id": "VnV-qHswaiMo",
        "outputId": "240a6f5b-c35d-43f5-83df-17d92696db98"
      },
      "execution_count": 19,
      "outputs": [
        {
          "output_type": "stream",
          "name": "stdout",
          "text": [
            "{'brand': 'Ford', 'year': 1964}\n"
          ]
        }
      ]
    },
    {
      "cell_type": "code",
      "source": [
        "# Update the \"year\" of the car by using the update() method:\n",
        "thisdict = {\n",
        "  \"brand\": \"Ford\",\n",
        "  \"model\": \"Mustang\",\n",
        "  \"year\": 1964\n",
        "}\n",
        "thisdict.update({\"year\": 2020})\n",
        "print(thisdict)"
      ],
      "metadata": {
        "colab": {
          "base_uri": "https://localhost:8080/"
        },
        "id": "NfgnpNeGbmit",
        "outputId": "a84f8051-9da3-4387-aa98-940cce31a294"
      },
      "execution_count": 20,
      "outputs": [
        {
          "output_type": "stream",
          "name": "stdout",
          "text": [
            "{'brand': 'Ford', 'model': 'Mustang', 'year': 2020}\n"
          ]
        }
      ]
    },
    {
      "cell_type": "markdown",
      "source": [
        "## 2.4 Some simple python 'sentences'\n",
        "\n",
        "We can put things together using some simple programming 'sentences'. If we want to describe some conditions, we can use `if...else...`. If we want to some repetitive work, we can use `while` or `for` loops."
      ],
      "metadata": {
        "id": "VaeaCb_HcUIa"
      }
    },
    {
      "cell_type": "markdown",
      "source": [
        "### 2.4.1 If...Else...\n",
        "\n",
        "Python supports the usual logical conditions from mathematics:\n",
        "\n",
        "Equals: `a == b`\n",
        "\n",
        "Not Equals: `a != b`\n",
        "\n",
        "Less than: `a < b`\n",
        "\n",
        "Less than or equal to: `a <= b`\n",
        "\n",
        "Greater than: `a > b`\n",
        "\n",
        "Greater than or equal to: `a >= b`\n",
        "\n",
        "These conditions can be used in several ways, most commonly in \"if statements\" and loops.\n",
        "\n",
        "An \"if statement\" is written by using the if keyword."
      ],
      "metadata": {
        "id": "XPKEm6M4c8X8"
      }
    },
    {
      "cell_type": "code",
      "source": [
        "a = 200\n",
        "b = 33\n",
        "if b > a:\n",
        "  print(\"b is greater than a\")\n",
        "else:\n",
        "  print(\"b is not greater than a\")"
      ],
      "metadata": {
        "colab": {
          "base_uri": "https://localhost:8080/"
        },
        "id": "jNTbkaI2bsuB",
        "outputId": "8ac989dc-c063-4b5f-ce21-30d0b952ff7c"
      },
      "execution_count": 21,
      "outputs": [
        {
          "output_type": "stream",
          "name": "stdout",
          "text": [
            "b is not greater than a\n"
          ]
        }
      ]
    },
    {
      "cell_type": "code",
      "source": [
        "# you can use 1 line for 3 conditions\n",
        "a = 330\n",
        "b = 330\n",
        "print(\"A\") if a > b else print(\"=\") if a == b else print(\"B\")"
      ],
      "metadata": {
        "colab": {
          "base_uri": "https://localhost:8080/"
        },
        "id": "AxhY5VB9dVme",
        "outputId": "52a5b7d5-a7fb-4376-f67d-968125ebe5a3"
      },
      "execution_count": 22,
      "outputs": [
        {
          "output_type": "stream",
          "name": "stdout",
          "text": [
            "=\n"
          ]
        }
      ]
    },
    {
      "cell_type": "markdown",
      "source": [
        "### 2.4.2 While loop\n",
        "\n",
        "With the `while` loop we can execute a set of statements as long as a condition is true."
      ],
      "metadata": {
        "id": "AwFDir76d0dO"
      }
    },
    {
      "cell_type": "code",
      "source": [
        "i = 1\n",
        "while i < 6:\n",
        "  print(i)\n",
        "  i += 1"
      ],
      "metadata": {
        "colab": {
          "base_uri": "https://localhost:8080/"
        },
        "id": "XSgrl7WAeKJh",
        "outputId": "f6a2a86c-bcbe-4096-c45e-2998214a4735"
      },
      "execution_count": 23,
      "outputs": [
        {
          "output_type": "stream",
          "name": "stdout",
          "text": [
            "1\n",
            "2\n",
            "3\n",
            "4\n",
            "5\n"
          ]
        }
      ]
    },
    {
      "cell_type": "code",
      "source": [
        "# With the break statement we can stop the loop even if the while condition is true:\n",
        "i = 1\n",
        "while i < 6:\n",
        "  print(i)\n",
        "  if i == 3:\n",
        "    break\n",
        "  i += 1"
      ],
      "metadata": {
        "colab": {
          "base_uri": "https://localhost:8080/"
        },
        "id": "FXujswTXeO4O",
        "outputId": "aa7470a7-78b9-413e-f819-e57160ddc506"
      },
      "execution_count": 24,
      "outputs": [
        {
          "output_type": "stream",
          "name": "stdout",
          "text": [
            "1\n",
            "2\n",
            "3\n"
          ]
        }
      ]
    },
    {
      "cell_type": "code",
      "source": [
        "# With the continue statement we can stop the current iteration, and continue with the next:\n",
        "i = 0\n",
        "while i < 6:\n",
        "  i += 1\n",
        "  if i == 3:\n",
        "    continue\n",
        "  print(i)"
      ],
      "metadata": {
        "colab": {
          "base_uri": "https://localhost:8080/"
        },
        "id": "TcPkfUrleU_p",
        "outputId": "dad98d4e-e4cb-46bf-f44a-4e5bc2e45900"
      },
      "execution_count": 25,
      "outputs": [
        {
          "output_type": "stream",
          "name": "stdout",
          "text": [
            "1\n",
            "2\n",
            "4\n",
            "5\n",
            "6\n"
          ]
        }
      ]
    },
    {
      "cell_type": "markdown",
      "source": [
        "### 2.4.3 For loops\n",
        "\n",
        "A `for` loop is used for iterating over a sequence (that is either a list, a tuple, a dictionary, a set, or a string).\n",
        "\n",
        "This is less like the `for` keyword in other programming languages, and works more like an iterator method as found in other object-orientated programming languages.\n",
        "\n"
      ],
      "metadata": {
        "id": "jjaqh_3fejWS"
      }
    },
    {
      "cell_type": "code",
      "source": [
        "for x in range(6):\n",
        "  if x <= 3:\n",
        "    print(x)\n",
        "  else:\n",
        "    print(\"Finally finished!\")\n",
        "    break"
      ],
      "metadata": {
        "colab": {
          "base_uri": "https://localhost:8080/"
        },
        "id": "LJ2-NoOJeeV6",
        "outputId": "c912a0b4-5084-4b1e-9c05-e15e1ae68450"
      },
      "execution_count": 26,
      "outputs": [
        {
          "output_type": "stream",
          "name": "stdout",
          "text": [
            "0\n",
            "1\n",
            "2\n",
            "3\n",
            "Finally finished!\n"
          ]
        }
      ]
    },
    {
      "cell_type": "markdown",
      "source": [],
      "metadata": {
        "id": "oQaHK8LMfQeE"
      }
    },
    {
      "cell_type": "markdown",
      "source": [
        "## 2.5 User-defined functions\n",
        "\n",
        "A function is a block of code which only runs when it is called.\n",
        "\n",
        "A function can return data as a result.\n",
        "\n",
        "A function helps avoiding code repetition.\n",
        "\n",
        "In Python, a function is defined using the `def` keyword, followed by a function name and parentheses.\n",
        "\n",
        "To call a function, write its name followed by parentheses."
      ],
      "metadata": {
        "id": "M55daSdVfeFm"
      }
    },
    {
      "cell_type": "code",
      "source": [
        "def my_function():\n",
        "  print(\"Hello from a function\")\n",
        "\n",
        "my_function()"
      ],
      "metadata": {
        "colab": {
          "base_uri": "https://localhost:8080/"
        },
        "id": "TffdiUf4e81Z",
        "outputId": "fa45a04f-b4bd-4bd2-8907-d05f29066938"
      },
      "execution_count": 27,
      "outputs": [
        {
          "output_type": "stream",
          "name": "stdout",
          "text": [
            "Hello from a function\n"
          ]
        }
      ]
    },
    {
      "cell_type": "markdown",
      "source": [
        "We can write functions to carry out user-defined process. And we can reuse the code in a very concised fashion."
      ],
      "metadata": {
        "id": "jeinu4W_gHBN"
      }
    },
    {
      "cell_type": "code",
      "source": [
        "def fahrenheit_to_celsius(fahrenheit):\n",
        "  return (fahrenheit - 32) * 5 / 9\n",
        "\n",
        "print(fahrenheit_to_celsius(77))\n",
        "print(fahrenheit_to_celsius(95))\n",
        "print(fahrenheit_to_celsius(50))"
      ],
      "metadata": {
        "colab": {
          "base_uri": "https://localhost:8080/"
        },
        "id": "2L53XVXGgUm5",
        "outputId": "30494e83-3ed6-4b15-d87a-1df4e1970439"
      },
      "execution_count": 28,
      "outputs": [
        {
          "output_type": "stream",
          "name": "stdout",
          "text": [
            "25.0\n",
            "35.0\n",
            "10.0\n"
          ]
        }
      ]
    },
    {
      "cell_type": "markdown",
      "source": [
        "Information can be passed into functions as arguments.\n",
        "\n",
        "Arguments are specified after the function name, inside the parentheses. You can add as many arguments as you want, just separate them with a comma.\n",
        "\n",
        "You can assign default values to parameters. If the function is called without an argument, it uses the default value."
      ],
      "metadata": {
        "id": "ohu5Di1sgiCJ"
      }
    },
    {
      "cell_type": "code",
      "source": [
        "def my_function(fname, lname, country=\"UK\"):\n",
        "  print(f\"Hello, my name is {fname} {lname}. I am from {country}\")\n",
        "\n",
        "my_function(\"Harry\", \"Styles\")\n",
        "my_function(\"Taylor\", \"Swift\", \"US\")"
      ],
      "metadata": {
        "colab": {
          "base_uri": "https://localhost:8080/"
        },
        "id": "7Ky80TslgXT8",
        "outputId": "8e24b83e-e417-43c4-e635-904100bd5352"
      },
      "execution_count": 29,
      "outputs": [
        {
          "output_type": "stream",
          "name": "stdout",
          "text": [
            "Hello, my name is Harry Styles. I am from UK\n",
            "Hello, my name is Taylor Swift. I am from US\n"
          ]
        }
      ]
    },
    {
      "cell_type": "markdown",
      "source": [
        "## 2.6 Build-in functions\n",
        "\n",
        "There are many useful build-in functions in python. We listed a couple of useful ones below.\n",
        "\n",
        "> For a list of build-in functions, check out [Build-in Functions](https://docs.python.org/3/library/functions.html)"
      ],
      "metadata": {
        "id": "_hY1WeRHj-0T"
      }
    },
    {
      "cell_type": "code",
      "source": [
        "# enumerate returns a tuple containing a count (from start which defaults to 0)\n",
        "# and the values obtained from iterating over iterable.\n",
        "seasons = ['Spring', 'Summer', 'Fall', 'Winter']\n",
        "for idx, season in enumerate(seasons):\n",
        "  print(idx, season)"
      ],
      "metadata": {
        "colab": {
          "base_uri": "https://localhost:8080/"
        },
        "id": "VeSbEEUThNM-",
        "outputId": "e195a3db-d32a-40cb-a6f4-452d52035cda"
      },
      "execution_count": 30,
      "outputs": [
        {
          "output_type": "stream",
          "name": "stdout",
          "text": [
            "0 Spring\n",
            "1 Summer\n",
            "2 Fall\n",
            "3 Winter\n"
          ]
        }
      ]
    },
    {
      "cell_type": "code",
      "source": [
        "# range(start, stop, step=1) gives an immutable sequence. It returns an iterable\n",
        "print(list(range(1,5)))\n",
        "print(list(range(10, 100, 20)))"
      ],
      "metadata": {
        "colab": {
          "base_uri": "https://localhost:8080/"
        },
        "id": "MLoiOE8Lldmp",
        "outputId": "b590f763-8609-4dfd-df2e-a959c5de3dd2"
      },
      "execution_count": 31,
      "outputs": [
        {
          "output_type": "stream",
          "name": "stdout",
          "text": [
            "[1, 2, 3, 4]\n",
            "[10, 30, 50, 70, 90]\n"
          ]
        }
      ]
    },
    {
      "cell_type": "code",
      "source": [
        "# zip iterates over several iterables in parallel, producing tuples with an item from each one.\n",
        "for item in zip([1, 2, 3], ['sugar', 'spice', 'everything nice']):\n",
        "    print(item)"
      ],
      "metadata": {
        "colab": {
          "base_uri": "https://localhost:8080/"
        },
        "id": "y_5J-p2Kl9A6",
        "outputId": "473dd1da-b52c-4669-e2ae-9e2970455bd6"
      },
      "execution_count": 32,
      "outputs": [
        {
          "output_type": "stream",
          "name": "stdout",
          "text": [
            "(1, 'sugar')\n",
            "(2, 'spice')\n",
            "(3, 'everything nice')\n"
          ]
        }
      ]
    },
    {
      "cell_type": "markdown",
      "source": [
        "# 3. File handling\n",
        "\n",
        "The key function for working with files in Python is the `open()` function.\n",
        "\n",
        "The `open()` function takes two parameters; *filename*, and *mode*.\n",
        "\n",
        "There are four different methods (modes) for opening a file:\n",
        "\n",
        "* \"r\" - Read - Default value. Opens a file for reading, error if the file does not exist\n",
        "\n",
        "* \"a\" - Append - Opens a file for appending, creates the file if it does not exist\n",
        "\n",
        "* \"w\" - Write - Opens a file for writing, creates the file if it does not exist\n",
        "\n",
        "* \"x\" - Create - Creates the specified file, returns an error if the file exists\n",
        "\n",
        "In addition you can specify if the file should be handled as binary or text mode\n",
        "\n",
        "* \"t\" - Text - Default value. Text mode\n",
        "\n",
        "* \"b\" - Binary - Binary mode (e.g. images)\n",
        "\n",
        "\n",
        "Reading/Writing files starts with `open()` and ends with `close()`\n"
      ],
      "metadata": {
        "id": "RBQDEReAnk6q"
      }
    },
    {
      "cell_type": "code",
      "source": [
        "f = open(\"/content/sample_data/README.md\", \"r\")\n",
        "print(f.read())\n",
        "f.close()"
      ],
      "metadata": {
        "colab": {
          "base_uri": "https://localhost:8080/"
        },
        "id": "y5U1XR1YpUlS",
        "outputId": "4620dcf5-3c8e-4fdf-a81b-a9575e758527"
      },
      "execution_count": 33,
      "outputs": [
        {
          "output_type": "stream",
          "name": "stdout",
          "text": [
            "This directory includes a few sample datasets to get you started.\n",
            "\n",
            "*   `california_housing_data*.csv` is California housing data from the 1990 US\n",
            "    Census; more information is available at:\n",
            "    https://docs.google.com/document/d/e/2PACX-1vRhYtsvc5eOR2FWNCwaBiKL6suIOrxJig8LcSBbmCbyYsayia_DvPOOBlXZ4CAlQ5nlDD8kTaIDRwrN/pub\n",
            "\n",
            "*   `mnist_*.csv` is a small sample of the\n",
            "    [MNIST database](https://en.wikipedia.org/wiki/MNIST_database), which is\n",
            "    described at: http://yann.lecun.com/exdb/mnist/\n",
            "\n",
            "*   `anscombe.json` contains a copy of\n",
            "    [Anscombe's quartet](https://en.wikipedia.org/wiki/Anscombe%27s_quartet); it\n",
            "    was originally described in\n",
            "\n",
            "    Anscombe, F. J. (1973). 'Graphs in Statistical Analysis'. American\n",
            "    Statistician. 27 (1): 17-21. JSTOR 2682899.\n",
            "\n",
            "    and our copy was prepared by the\n",
            "    [vega_datasets library](https://github.com/altair-viz/vega_datasets/blob/4f67bdaad10f45e3549984e17e1b3088c731503d/vega_datasets/_data/anscombe.json).\n",
            "\n"
          ]
        }
      ]
    },
    {
      "cell_type": "markdown",
      "source": [
        "We prefer using `with` statement so that the opened files can always be safely closed regardless what issues happened during file manipulation."
      ],
      "metadata": {
        "id": "HtiSinlSqikp"
      }
    },
    {
      "cell_type": "code",
      "source": [
        "with open(\"/content/sample_data/README.md\", \"r\") as f:\n",
        "  lines = f.readlines() # readlines() read the file line by line\n",
        "  for line in lines[:5]: # only return the first 5 lines\n",
        "    print(line)"
      ],
      "metadata": {
        "colab": {
          "base_uri": "https://localhost:8080/"
        },
        "id": "dzi9xX_9p4dD",
        "outputId": "b25165c3-f9b8-49a2-fe91-7e3d40a2d5f7"
      },
      "execution_count": 34,
      "outputs": [
        {
          "output_type": "stream",
          "name": "stdout",
          "text": [
            "This directory includes a few sample datasets to get you started.\n",
            "\n",
            "\n",
            "\n",
            "*   `california_housing_data*.csv` is California housing data from the 1990 US\n",
            "\n",
            "    Census; more information is available at:\n",
            "\n",
            "    https://docs.google.com/document/d/e/2PACX-1vRhYtsvc5eOR2FWNCwaBiKL6suIOrxJig8LcSBbmCbyYsayia_DvPOOBlXZ4CAlQ5nlDD8kTaIDRwrN/pub\n",
            "\n"
          ]
        }
      ]
    },
    {
      "cell_type": "markdown",
      "source": [
        "We can write files by change \"r\" to \"w\""
      ],
      "metadata": {
        "id": "1caYZs_xsHjZ"
      }
    },
    {
      "cell_type": "code",
      "source": [
        "with open(\"/content/sample_data/test_output.txt\", \"w\") as f:\n",
        "  f.write(\"This is a test for writing a file.\\n\")"
      ],
      "metadata": {
        "id": "STtiEmgmq1v-"
      },
      "execution_count": 35,
      "outputs": []
    },
    {
      "cell_type": "markdown",
      "source": [
        "We can also continue writing to an existing file. In this way, we need to change to \"a\" mode. If we choose to use the \"w\" mode, the file would be overwritten."
      ],
      "metadata": {
        "id": "bIPi1R8dshLg"
      }
    },
    {
      "cell_type": "code",
      "source": [
        "with open(\"/content/sample_data/test_output.txt\", \"a\") as f:\n",
        "  f.write(\"This is the second line I added to.\\n\")"
      ],
      "metadata": {
        "id": "qNnXx8YjsCtY"
      },
      "execution_count": 36,
      "outputs": []
    },
    {
      "cell_type": "markdown",
      "source": [
        "# 4. Python modules\n",
        "\n",
        "Python has a wealth of scientific modules that are provided by third parties. So searching repos like [PyPi](https://pypi.org/) or [Anaconda](https://anaconda.org/)is helpful for finding the right modules and tools. These third party modules greatly expanded the versatility of python and made python valuable in e.g. data sciense, cheminformatics etc.\n",
        "\n",
        "We will speak about following packages:\n",
        "\n",
        "* matplotlib\n",
        "* pandas\n"
      ],
      "metadata": {
        "id": "mh5MKK3duOFk"
      }
    },
    {
      "cell_type": "markdown",
      "source": [
        "## 4.1 Install third-party modules\n",
        "\n",
        "Properly written python modules generally provide information on installation. We can google the module to find out more. An example of the installation instruction looks like this [matplotlib installation](https://matplotlib.org/stable/install/index.html). The installation method depends on how the developers have prepared the module. You generally can use `pip` to install modules if developers have prepared the modules in wheels. Some modules may prefer to use the conda environment (which is silly).  \n",
        "\n",
        "Following the instructions (usually very simple), we can install modules through `pip` or `conda`. To run the install command in notebook (like the one we are using), we need to add `!` in front of the command.\n",
        "\n",
        "Running the following commands will install matplotlib, pandas, numpy and scipy for you."
      ],
      "metadata": {
        "id": "5HTmY4H6wOBx"
      }
    },
    {
      "cell_type": "code",
      "source": [
        "!pip install matplotlib\n",
        "!pip install pandas"
      ],
      "metadata": {
        "colab": {
          "base_uri": "https://localhost:8080/"
        },
        "id": "6BFFdtt9uVIP",
        "outputId": "0b58db79-d446-41a3-e134-b9cda30d8ae5"
      },
      "execution_count": 37,
      "outputs": [
        {
          "output_type": "stream",
          "name": "stdout",
          "text": [
            "Requirement already satisfied: matplotlib in /usr/local/lib/python3.12/dist-packages (3.10.0)\n",
            "Requirement already satisfied: contourpy>=1.0.1 in /usr/local/lib/python3.12/dist-packages (from matplotlib) (1.3.3)\n",
            "Requirement already satisfied: cycler>=0.10 in /usr/local/lib/python3.12/dist-packages (from matplotlib) (0.12.1)\n",
            "Requirement already satisfied: fonttools>=4.22.0 in /usr/local/lib/python3.12/dist-packages (from matplotlib) (4.60.1)\n",
            "Requirement already satisfied: kiwisolver>=1.3.1 in /usr/local/lib/python3.12/dist-packages (from matplotlib) (1.4.9)\n",
            "Requirement already satisfied: numpy>=1.23 in /usr/local/lib/python3.12/dist-packages (from matplotlib) (2.0.2)\n",
            "Requirement already satisfied: packaging>=20.0 in /usr/local/lib/python3.12/dist-packages (from matplotlib) (25.0)\n",
            "Requirement already satisfied: pillow>=8 in /usr/local/lib/python3.12/dist-packages (from matplotlib) (11.3.0)\n",
            "Requirement already satisfied: pyparsing>=2.3.1 in /usr/local/lib/python3.12/dist-packages (from matplotlib) (3.2.5)\n",
            "Requirement already satisfied: python-dateutil>=2.7 in /usr/local/lib/python3.12/dist-packages (from matplotlib) (2.9.0.post0)\n",
            "Requirement already satisfied: six>=1.5 in /usr/local/lib/python3.12/dist-packages (from python-dateutil>=2.7->matplotlib) (1.17.0)\n",
            "Requirement already satisfied: pandas in /usr/local/lib/python3.12/dist-packages (2.2.2)\n",
            "Requirement already satisfied: numpy>=1.26.0 in /usr/local/lib/python3.12/dist-packages (from pandas) (2.0.2)\n",
            "Requirement already satisfied: python-dateutil>=2.8.2 in /usr/local/lib/python3.12/dist-packages (from pandas) (2.9.0.post0)\n",
            "Requirement already satisfied: pytz>=2020.1 in /usr/local/lib/python3.12/dist-packages (from pandas) (2025.2)\n",
            "Requirement already satisfied: tzdata>=2022.7 in /usr/local/lib/python3.12/dist-packages (from pandas) (2025.2)\n",
            "Requirement already satisfied: six>=1.5 in /usr/local/lib/python3.12/dist-packages (from python-dateutil>=2.8.2->pandas) (1.17.0)\n"
          ]
        }
      ]
    },
    {
      "cell_type": "markdown",
      "source": [
        "## 4.2 Import modules\n",
        "\n",
        "To use the functionality present in any module, you have to import it into your current program. You need to use the `import` keyword along with the desired module name. When the interpreter comes across an `import` statement, it imports the module to your current program. You can use the functions inside a module by using a dot (.) operator along with the module name. You can use the keyward `as` to give an imported module/function an alias. You can also use the syntax `from .. import ..` to import specific functions/classes from a module. This can reduced the memory requirement (sometimes)."
      ],
      "metadata": {
        "id": "eXueh0uZ0KcK"
      }
    },
    {
      "cell_type": "code",
      "source": [
        "import matplotlib\n",
        "import matplotlib.cm\n",
        "import matplotlib.pyplot as plt\n",
        "import numpy as np\n",
        "from matplotlib.patches import Polygon"
      ],
      "metadata": {
        "id": "a4t1fiVWzrER"
      },
      "execution_count": 38,
      "outputs": []
    },
    {
      "cell_type": "markdown",
      "source": [
        "## 4.3 Matplotlib\n",
        "\n",
        "Matplotlib is a plotting library for the Python programming language and its numerical mathematics extension NumPy.\n",
        "\n",
        "It generates (exciting) configurable plots and makes data analysis easy. Check out its documentation at [Matplotlib](https://matplotlib.org/) where it provides many plots examples.\n",
        "\n",
        "The general workflow is\n",
        "\n",
        "1.   use `plt.subplots()` to generate a `figure` object and single or multiple `axes` (aka plots) object\n",
        "2.   use the `figure` object to control frontend and backend (no importance generally) and use the `axes` object to control to plots (most relavant to use)\n",
        "3.   use [ax.plot()](https://matplotlib.org/stable/api/_as_gen/matplotlib.axes.Axes.plot.html#matplotlib.axes.Axes.plot) to plot data in general terms or use more specific functions to control the plots, e.g. [ax.scatter()](https://matplotlib.org/stable/api/_as_gen/matplotlib.axes.Axes.scatter.html#matplotlib.axes.Axes.scatter), [ax.bar()](https://matplotlib.org/stable/api/_as_gen/matplotlib.axes.Axes.bar.html#matplotlib.axes.Axes.bar) or [ax.hist()](https://matplotlib.org/stable/api/_as_gen/matplotlib.axes.Axes.hist.html#matplotlib.axes.Axes.hist). Have a quick look at the plot types, check out [plot_types](https://matplotlib.org/stable/plot_types/index.html)\n",
        "4.  use some functions to control the artistics like setting the labels via using `ax.set_xlabels()` or `ax.set_ylabels()`, setting the legends via using `ax.legend()`\n",
        "5.  show the figure by using `plt.show()` or save the figure by `plt.save()`\n",
        "\n",
        "> check out many interesting examples here [Gallery](https://matplotlib.org/stable/gallery/index.html)\n",
        "\n"
      ],
      "metadata": {
        "id": "bxe2iUm42VmF"
      }
    },
    {
      "cell_type": "code",
      "source": [
        "# a simple example\n",
        "\n",
        "fig, ax = plt.subplots()             # Create a figure containing a single Axes.\n",
        "ax.plot([1, 2, 3, 4], [1, 4, 2, 3])  # Plot some data on the Axes.\n",
        "plt.show()                           # Show the figure."
      ],
      "metadata": {
        "colab": {
          "base_uri": "https://localhost:8080/",
          "height": 430
        },
        "id": "CWI3zlaM3a1R",
        "outputId": "3625307e-267f-457d-d051-3a9beafb19cc"
      },
      "execution_count": 39,
      "outputs": [
        {
          "output_type": "display_data",
          "data": {
            "text/plain": [
              "<Figure size 640x480 with 1 Axes>"
            ],
            "image/png": "[encoded data removed]"
          },
          "metadata": {}
        }
      ]
    },
    {
      "cell_type": "code",
      "source": [
        "# a more advance controle of artistics\n",
        "\n",
        "import matplotlib.pyplot as plt\n",
        "import numpy as np\n",
        "\n",
        "plt.style.use('_mpl-gallery')\n",
        "\n",
        "# make data\n",
        "x = np.linspace(0, 10, 100)\n",
        "y = 4 + 1 * np.sin(2 * x)\n",
        "x2 = np.linspace(0, 10, 25)\n",
        "y2 = 4 + 1 * np.sin(2 * x2)\n",
        "\n",
        "# plot\n",
        "fig, ax = plt.subplots()\n",
        "\n",
        "ax.plot(x2, y2 + 2.5, 'x', markeredgewidth=2)\n",
        "ax.plot(x, y, linewidth=2.0)\n",
        "ax.plot(x2, y2 - 2.5, 'o-', linewidth=2)\n",
        "\n",
        "ax.set(xlim=(0, 8), xticks=np.arange(1, 8),\n",
        "       ylim=(0, 8), yticks=np.arange(1, 8))\n",
        "\n",
        "plt.show()\n",
        "\n"
      ],
      "metadata": {
        "colab": {
          "base_uri": "https://localhost:8080/",
          "height": 251
        },
        "id": "GUqRTK7W1cQy",
        "outputId": "306c80ae-434f-4863-9a65-b8331ca8fd6b"
      },
      "execution_count": 40,
      "outputs": [
        {
          "output_type": "display_data",
          "data": {
            "text/plain": [
              "<Figure size 200x200 with 1 Axes>"
            ],
            "image/png": "[encoded data removed]"
          },
          "metadata": {}
        }
      ]
    },
    {
      "cell_type": "code",
      "source": [
        "# an example to show errorbar\n",
        "import matplotlib.pyplot as plt\n",
        "import numpy as np\n",
        "\n",
        "plt.style.use('_mpl-gallery')\n",
        "\n",
        "# make data:\n",
        "np.random.seed(1)\n",
        "x = [2, 4, 6]\n",
        "y = [3.6, 5, 4.2]\n",
        "yerr = [0.9, 1.2, 0.5]\n",
        "\n",
        "# plot:\n",
        "fig, ax = plt.subplots()\n",
        "\n",
        "ax.errorbar(x, y, yerr, fmt='o', linewidth=2, capsize=6)\n",
        "\n",
        "ax.set(xlim=(0, 8), xticks=np.arange(1, 8),\n",
        "       ylim=(0, 8), yticks=np.arange(1, 8))\n",
        "\n",
        "plt.show()\n",
        "\n"
      ],
      "metadata": {
        "colab": {
          "base_uri": "https://localhost:8080/",
          "height": 251
        },
        "id": "kCWlcuEM3ClW",
        "outputId": "596ae954-2cdf-4436-87a8-59a9ef424ac2"
      },
      "execution_count": 41,
      "outputs": [
        {
          "output_type": "display_data",
          "data": {
            "text/plain": [
              "<Figure size 200x200 with 1 Axes>"
            ],
            "image/png": "[encoded data removed]"
          },
          "metadata": {}
        }
      ]
    },
    {
      "cell_type": "markdown",
      "source": [
        "## 4.3 Pandas\n",
        "\n",
        "Pandas is a fast, powerful, flexible and easy to use open source data analysis and manipulation tool. Full documentation of Pandas can be found [here](https://pandas.pydata.org/). You can think of it as your python version of Excel but only way better!\n",
        "\n",
        "It can read in files like excel, csv, JSON and html etc, and do useful data manipulation and visualisation.\n",
        "\n",
        "A simple workflow can be:\n",
        "\n",
        "1.  read in a data file using [pandas.read_csv()](https://pandas.pydata.org/docs/reference/api/pandas.read_csv.html#pandas.read_csv) or [pandas.read_excel()](https://pandas.pydata.org/docs/reference/api/pandas.read_excel.html) and load it to a [DataFrame](https://pandas.pydata.org/docs/reference/api/pandas.DataFrame.html) object\n",
        "2.  do some data manipulation.\n",
        "3.  plot the data using pandas plot function\n",
        "4.  save the data to csv using [DataFrame.to_csv()](https://pandas.pydata.org/docs/reference/api/pandas.DataFrame.to_csv.html) or to excel using [DataFrame.to_excel()](https://pandas.pydata.org/docs/reference/api/pandas.DataFrame.to_excel.html)"
      ],
      "metadata": {
        "id": "f6YWnUGE7wfw"
      }
    },
    {
      "cell_type": "code",
      "source": [
        "# a simple example of reading a csv file\n",
        "\n",
        "import pandas as pd\n",
        "df = pd.read_csv(\"https://raw.githubusercontent.com/PatWalters/practical_cheminformatics_tutorials/main/data/ChEMBL_hERG.csv\")\n",
        "df.head(5) # show first 5 rows of the table"
      ],
      "metadata": {
        "colab": {
          "base_uri": "https://localhost:8080/",
          "height": 564
        },
        "id": "ucGr5BhW8HtL",
        "outputId": "bd2200e3-547f-4fca-e4d0-958853bf860c"
      },
      "execution_count": 42,
      "outputs": [
        {
          "output_type": "execute_result",
          "data": {
            "text/plain": [
              "                                    canonical_smiles  molregno mol_chembl_id  \\\n",
              "0  COCC(=O)O[C@]1(CCN(C)CCCc2nc3ccccc3[nH]2)CCc4c...     72035   CHEMBL45816   \n",
              "1            CC(C)COCC(CN(Cc1ccccc1)c2ccccc2)N3CCCC3    112651    CHEMBL1008   \n",
              "2  COc1c(N2C[C@@H]3CCCN[C@@H]3C2)c(F)cc4C(=O)C(=C...      1788      CHEMBL32   \n",
              "3  COc1c(N2CCNC(C)C2)c(F)cc3C(=O)C(=CN(C4CC4)c13)...      1712      CHEMBL31   \n",
              "4  CC1CN(CCN1)c2cc3N(C=C(C(=O)O)C(=O)c3c(C)c2F)C4CC4     17136     CHEMBL583   \n",
              "\n",
              "  standard_relation  standard_value standard_type standard_units  \\\n",
              "0                 =          1430.0          IC50             nM   \n",
              "1                 =           550.0          IC50             nM   \n",
              "2                 =        129000.0          IC50             nM   \n",
              "3                 =        130000.0          IC50             nM   \n",
              "4                 =        104000.0          IC50             nM   \n",
              "\n",
              "                                         description      organism assay_type  \\\n",
              "0  K+ channel blocking activity in COS-7 African ...  Homo sapiens          F   \n",
              "1  K+ channel blocking activity in COS-7 African ...  Homo sapiens          F   \n",
              "2  K+ channel blocking activity in Chinese hamste...  Homo sapiens          F   \n",
              "3  K+ channel blocking activity in Chinese hamste...  Homo sapiens          F   \n",
              "4  K+ channel blocking activity in Chinese hamste...  Homo sapiens          F   \n",
              "\n",
              "   confidence_score pref_name tgt_chembl_id  \n",
              "0                 9      HERG     CHEMBL240  \n",
              "1                 9      HERG     CHEMBL240  \n",
              "2                 9      HERG     CHEMBL240  \n",
              "3                 9      HERG     CHEMBL240  \n",
              "4                 9      HERG     CHEMBL240  "
            ],
            "text/html": [
              "\n",
              "  <div id=\"df-54a3443f-4f35-4d48-9451-c5826e092e29\" class=\"colab-df-container\">\n",
              "    <div>\n",
              "<style scoped>\n",
              "    .dataframe tbody tr th:only-of-type {\n",
              "        vertical-align: middle;\n",
              "    }\n",
              "\n",
              "    .dataframe tbody tr th {\n",
              "        vertical-align: top;\n",
              "    }\n",
              "\n",
              "    .dataframe thead th {\n",
              "        text-align: right;\n",
              "    }\n",
              "</style>\n",
              "<table border=\"1\" class=\"dataframe\">\n",
              "  <thead>\n",
              "    <tr style=\"text-align: right;\">\n",
              "      <th></th>\n",
              "      <th>canonical_smiles</th>\n",
              "      <th>molregno</th>\n",
              "      <th>mol_chembl_id</th>\n",
              "      <th>standard_relation</th>\n",
              "      <th>standard_value</th>\n",
              "      <th>standard_type</th>\n",
              "      <th>standard_units</th>\n",
              "      <th>description</th>\n",
              "      <th>organism</th>\n",
              "      <th>assay_type</th>\n",
              "      <th>confidence_score</th>\n",
              "      <th>pref_name</th>\n",
              "      <th>tgt_chembl_id</th>\n",
              "    </tr>\n",
              "  </thead>\n",
              "  <tbody>\n",
              "    <tr>\n",
              "      <th>0</th>\n",
              "      <td>COCC(=O)O[C@]1(CCN(C)CCCc2nc3ccccc3[nH]2)CCc4c...</td>\n",
              "      <td>72035</td>\n",
              "      <td>CHEMBL45816</td>\n",
              "      <td>=</td>\n",
              "      <td>1430.0</td>\n",
              "      <td>IC50</td>\n",
              "      <td>nM</td>\n",
              "      <td>K+ channel blocking activity in COS-7 African ...</td>\n",
              "      <td>Homo sapiens</td>\n",
              "      <td>F</td>\n",
              "      <td>9</td>\n",
              "      <td>HERG</td>\n",
              "      <td>CHEMBL240</td>\n",
              "    </tr>\n",
              "    <tr>\n",
              "      <th>1</th>\n",
              "      <td>CC(C)COCC(CN(Cc1ccccc1)c2ccccc2)N3CCCC3</td>\n",
              "      <td>112651</td>\n",
              "      <td>CHEMBL1008</td>\n",
              "      <td>=</td>\n",
              "      <td>550.0</td>\n",
              "      <td>IC50</td>\n",
              "      <td>nM</td>\n",
              "      <td>K+ channel blocking activity in COS-7 African ...</td>\n",
              "      <td>Homo sapiens</td>\n",
              "      <td>F</td>\n",
              "      <td>9</td>\n",
              "      <td>HERG</td>\n",
              "      <td>CHEMBL240</td>\n",
              "    </tr>\n",
              "    <tr>\n",
              "      <th>2</th>\n",
              "      <td>COc1c(N2C[C@@H]3CCCN[C@@H]3C2)c(F)cc4C(=O)C(=C...</td>\n",
              "      <td>1788</td>\n",
              "      <td>CHEMBL32</td>\n",
              "      <td>=</td>\n",
              "      <td>129000.0</td>\n",
              "      <td>IC50</td>\n",
              "      <td>nM</td>\n",
              "      <td>K+ channel blocking activity in Chinese hamste...</td>\n",
              "      <td>Homo sapiens</td>\n",
              "      <td>F</td>\n",
              "      <td>9</td>\n",
              "      <td>HERG</td>\n",
              "      <td>CHEMBL240</td>\n",
              "    </tr>\n",
              "    <tr>\n",
              "      <th>3</th>\n",
              "      <td>COc1c(N2CCNC(C)C2)c(F)cc3C(=O)C(=CN(C4CC4)c13)...</td>\n",
              "      <td>1712</td>\n",
              "      <td>CHEMBL31</td>\n",
              "      <td>=</td>\n",
              "      <td>130000.0</td>\n",
              "      <td>IC50</td>\n",
              "      <td>nM</td>\n",
              "      <td>K+ channel blocking activity in Chinese hamste...</td>\n",
              "      <td>Homo sapiens</td>\n",
              "      <td>F</td>\n",
              "      <td>9</td>\n",
              "      <td>HERG</td>\n",
              "      <td>CHEMBL240</td>\n",
              "    </tr>\n",
              "    <tr>\n",
              "      <th>4</th>\n",
              "      <td>CC1CN(CCN1)c2cc3N(C=C(C(=O)O)C(=O)c3c(C)c2F)C4CC4</td>\n",
              "      <td>17136</td>\n",
              "      <td>CHEMBL583</td>\n",
              "      <td>=</td>\n",
              "      <td>104000.0</td>\n",
              "      <td>IC50</td>\n",
              "      <td>nM</td>\n",
              "      <td>K+ channel blocking activity in Chinese hamste...</td>\n",
              "      <td>Homo sapiens</td>\n",
              "      <td>F</td>\n",
              "      <td>9</td>\n",
              "      <td>HERG</td>\n",
              "      <td>CHEMBL240</td>\n",
              "    </tr>\n",
              "  </tbody>\n",
              "</table>\n",
              "</div>\n",
              "    <div class=\"colab-df-buttons\">\n",
              "\n",
              "  <div class=\"colab-df-container\">\n",
              "    <button class=\"colab-df-convert\" onclick=\"convertToInteractive('df-54a3443f-4f35-4d48-9451-c5826e092e29')\"\n",
              "            title=\"Convert this dataframe to an interactive table.\"\n",
              "            style=\"display:none;\">\n",
              "\n",
              "  <svg xmlns=\"http://www.w3.org/2000/svg\" height=\"24px\" viewBox=\"0 -960 960 960\">\n",
              "    <path d=\"M120-120v-720h720v720H120Zm60-500h600v-160H180v160Zm220 220h160v-160H400v160Zm0 220h160v-160H400v160ZM180-400h160v-160H180v160Zm440 0h160v-160H620v160ZM180-180h160v-160H180v160Zm440 0h160v-160H620v160Z\"/>\n",
              "  </svg>\n",
              "    </button>\n",
              "\n",
              "  <style>\n",
              "    .colab-df-container {\n",
              "      display:flex;\n",
              "      gap: 12px;\n",
              "    }\n",
              "\n",
              "    .colab-df-convert {\n",
              "      background-color: #E8F0FE;\n",
              "      border: none;\n",
              "      border-radius: 50%;\n",
              "      cursor: pointer;\n",
              "      display: none;\n",
              "      fill: #1967D2;\n",
              "      height: 32px;\n",
              "      padding: 0 0 0 0;\n",
              "      width: 32px;\n",
              "    }\n",
              "\n",
              "    .colab-df-convert:hover {\n",
              "      background-color: #E2EBFA;\n",
              "      box-shadow: 0px 1px 2px rgba(60, 64, 67, 0.3), 0px 1px 3px 1px rgba(60, 64, 67, 0.15);\n",
              "      fill: #174EA6;\n",
              "    }\n",
              "\n",
              "    .colab-df-buttons div {\n",
              "      margin-bottom: 4px;\n",
              "    }\n",
              "\n",
              "    [theme=dark] .colab-df-convert {\n",
              "      background-color: #3B4455;\n",
              "      fill: #D2E3FC;\n",
              "    }\n",
              "\n",
              "    [theme=dark] .colab-df-convert:hover {\n",
              "      background-color: #434B5C;\n",
              "      box-shadow: 0px 1px 3px 1px rgba(0, 0, 0, 0.15);\n",
              "      filter: drop-shadow(0px 1px 2px rgba(0, 0, 0, 0.3));\n",
              "      fill: #FFFFFF;\n",
              "    }\n",
              "  </style>\n",
              "\n",
              "    <script>\n",
              "      const buttonEl =\n",
              "        document.querySelector('#df-54a3443f-4f35-4d48-9451-c5826e092e29 button.colab-df-convert');\n",
              "      buttonEl.style.display =\n",
              "        google.colab.kernel.accessAllowed ? 'block' : 'none';\n",
              "\n",
              "      async function convertToInteractive(key) {\n",
              "        const element = document.querySelector('#df-54a3443f-4f35-4d48-9451-c5826e092e29');\n",
              "        const dataTable =\n",
              "          await google.colab.kernel.invokeFunction('convertToInteractive',\n",
              "                                                    [key], {});\n",
              "        if (!dataTable) return;\n",
              "\n",
              "        const docLinkHtml = 'Like what you see? Visit the ' +\n",
              "          '<a target=\"_blank\" href=https://colab.research.google.com/notebooks/data_table.ipynb>data table notebook</a>'\n",
              "          + ' to learn more about interactive tables.';\n",
              "        element.innerHTML = '';\n",
              "        dataTable['output_type'] = 'display_data';\n",
              "        await google.colab.output.renderOutput(dataTable, element);\n",
              "        const docLink = document.createElement('div');\n",
              "        docLink.innerHTML = docLinkHtml;\n",
              "        element.appendChild(docLink);\n",
              "      }\n",
              "    </script>\n",
              "  </div>\n",
              "\n",
              "\n",
              "    <div id=\"df-83d9aa59-885b-4e61-bdd4-44c457542887\">\n",
              "      <button class=\"colab-df-quickchart\" onclick=\"quickchart('df-83d9aa59-885b-4e61-bdd4-44c457542887')\"\n",
              "                title=\"Suggest charts\"\n",
              "                style=\"display:none;\">\n",
              "\n",
              "<svg xmlns=\"http://www.w3.org/2000/svg\" height=\"24px\"viewBox=\"0 0 24 24\"\n",
              "     width=\"24px\">\n",
              "    <g>\n",
              "        <path d=\"M19 3H5c-1.1 0-2 .9-2 2v14c0 1.1.9 2 2 2h14c1.1 0 2-.9 2-2V5c0-1.1-.9-2-2-2zM9 17H7v-7h2v7zm4 0h-2V7h2v10zm4 0h-2v-4h2v4z\"/>\n",
              "    </g>\n",
              "</svg>\n",
              "      </button>\n",
              "\n",
              "<style>\n",
              "  .colab-df-quickchart {\n",
              "      --bg-color: #E8F0FE;\n",
              "      --fill-color: #1967D2;\n",
              "      --hover-bg-color: #E2EBFA;\n",
              "      --hover-fill-color: #174EA6;\n",
              "      --disabled-fill-color: #AAA;\n",
              "      --disabled-bg-color: #DDD;\n",
              "  }\n",
              "\n",
              "  [theme=dark] .colab-df-quickchart {\n",
              "      --bg-color: #3B4455;\n",
              "      --fill-color: #D2E3FC;\n",
              "      --hover-bg-color: #434B5C;\n",
              "      --hover-fill-color: #FFFFFF;\n",
              "      --disabled-bg-color: #3B4455;\n",
              "      --disabled-fill-color: #666;\n",
              "  }\n",
              "\n",
              "  .colab-df-quickchart {\n",
              "    background-color: var(--bg-color);\n",
              "    border: none;\n",
              "    border-radius: 50%;\n",
              "    cursor: pointer;\n",
              "    display: none;\n",
              "    fill: var(--fill-color);\n",
              "    height: 32px;\n",
              "    padding: 0;\n",
              "    width: 32px;\n",
              "  }\n",
              "\n",
              "  .colab-df-quickchart:hover {\n",
              "    background-color: var(--hover-bg-color);\n",
              "    box-shadow: 0 1px 2px rgba(60, 64, 67, 0.3), 0 1px 3px 1px rgba(60, 64, 67, 0.15);\n",
              "    fill: var(--button-hover-fill-color);\n",
              "  }\n",
              "\n",
              "  .colab-df-quickchart-complete:disabled,\n",
              "  .colab-df-quickchart-complete:disabled:hover {\n",
              "    background-color: var(--disabled-bg-color);\n",
              "    fill: var(--disabled-fill-color);\n",
              "    box-shadow: none;\n",
              "  }\n",
              "\n",
              "  .colab-df-spinner {\n",
              "    border: 2px solid var(--fill-color);\n",
              "    border-color: transparent;\n",
              "    border-bottom-color: var(--fill-color);\n",
              "    animation:\n",
              "      spin 1s steps(1) infinite;\n",
              "  }\n",
              "\n",
              "  @keyframes spin {\n",
              "    0% {\n",
              "      border-color: transparent;\n",
              "      border-bottom-color: var(--fill-color);\n",
              "      border-left-color: var(--fill-color);\n",
              "    }\n",
              "    20% {\n",
              "      border-color: transparent;\n",
              "      border-left-color: var(--fill-color);\n",
              "      border-top-color: var(--fill-color);\n",
              "    }\n",
              "    30% {\n",
              "      border-color: transparent;\n",
              "      border-left-color: var(--fill-color);\n",
              "      border-top-color: var(--fill-color);\n",
              "      border-right-color: var(--fill-color);\n",
              "    }\n",
              "    40% {\n",
              "      border-color: transparent;\n",
              "      border-right-color: var(--fill-color);\n",
              "      border-top-color: var(--fill-color);\n",
              "    }\n",
              "    60% {\n",
              "      border-color: transparent;\n",
              "      border-right-color: var(--fill-color);\n",
              "    }\n",
              "    80% {\n",
              "      border-color: transparent;\n",
              "      border-right-color: var(--fill-color);\n",
              "      border-bottom-color: var(--fill-color);\n",
              "    }\n",
              "    90% {\n",
              "      border-color: transparent;\n",
              "      border-bottom-color: var(--fill-color);\n",
              "    }\n",
              "  }\n",
              "</style>\n",
              "\n",
              "      <script>\n",
              "        async function quickchart(key) {\n",
              "          const quickchartButtonEl =\n",
              "            document.querySelector('#' + key + ' button');\n",
              "          quickchartButtonEl.disabled = true;  // To prevent multiple clicks.\n",
              "          quickchartButtonEl.classList.add('colab-df-spinner');\n",
              "          try {\n",
              "            const charts = await google.colab.kernel.invokeFunction(\n",
              "                'suggestCharts', [key], {});\n",
              "          } catch (error) {\n",
              "            console.error('Error during call to suggestCharts:', error);\n",
              "          }\n",
              "          quickchartButtonEl.classList.remove('colab-df-spinner');\n",
              "          quickchartButtonEl.classList.add('colab-df-quickchart-complete');\n",
              "        }\n",
              "        (() => {\n",
              "          let quickchartButtonEl =\n",
              "            document.querySelector('#df-83d9aa59-885b-4e61-bdd4-44c457542887 button');\n",
              "          quickchartButtonEl.style.display =\n",
              "            google.colab.kernel.accessAllowed ? 'block' : 'none';\n",
              "        })();\n",
              "      </script>\n",
              "    </div>\n",
              "\n",
              "    </div>\n",
              "  </div>\n"
            ],
            "application/vnd.google.colaboratory.intrinsic+json": {
              "type": "dataframe",
              "variable_name": "df",
              "summary": "{\n  \"name\": \"df\",\n  \"rows\": 8989,\n  \"fields\": [\n    {\n      \"column\": \"canonical_smiles\",\n      \"properties\": {\n        \"dtype\": \"string\",\n        \"num_unique_values\": 7438,\n        \"samples\": [\n          \"O=C(NCCCN1CCCCC1)Nc2ccc(cc2)S(=O)(=O)Nc3ccccc3C(=O)c4ccccc4\",\n          \"CCOC(=O)[C@@H]1[C@@H]2CN(C[C@H]12)C(=O)c3ccc(C[C@@H]4CC[C@@H](N4)[C@H](O)c5ccccc5)cc3\",\n          \"Fc1ccc(cc1)S(=O)(=O)NCCN2CC3CN(CCOc4ccc(cc4F)C#N)CC(C2)O3\"\n        ],\n        \"semantic_type\": \"\",\n        \"description\": \"\"\n      }\n    },\n    {\n      \"column\": \"molregno\",\n      \"properties\": {\n        \"dtype\": \"number\",\n        \"std\": 661215,\n        \"min\": 97,\n        \"max\": 2196506,\n        \"num_unique_values\": 7438,\n        \"samples\": [\n          448001,\n          2056778,\n          2145875\n        ],\n        \"semantic_type\": \"\",\n        \"description\": \"\"\n      }\n    },\n    {\n      \"column\": \"mol_chembl_id\",\n      \"properties\": {\n        \"dtype\": \"string\",\n        \"num_unique_values\": 7438,\n        \"samples\": [\n          \"CHEMBL487445\",\n          \"CHEMBL3746885\",\n          \"CHEMBL3936504\"\n        ],\n        \"semantic_type\": \"\",\n        \"description\": \"\"\n      }\n    },\n    {\n      \"column\": \"standard_relation\",\n      \"properties\": {\n        \"dtype\": \"category\",\n        \"num_unique_values\": 6,\n        \"samples\": [\n          \"=\",\n          \">\",\n          \"<=\"\n        ],\n        \"semantic_type\": \"\",\n        \"description\": \"\"\n      }\n    },\n    {\n      \"column\": \"standard_value\",\n      \"properties\": {\n        \"dtype\": \"number\",\n        \"std\": 25587116.457211148,\n        \"min\": 0.14,\n        \"max\": 1000000000.0,\n        \"num_unique_values\": 1812,\n        \"samples\": [\n          16500.0,\n          18700.0,\n          56500.0\n        ],\n        \"semantic_type\": \"\",\n        \"description\": \"\"\n      }\n    },\n    {\n      \"column\": \"standard_type\",\n      \"properties\": {\n        \"dtype\": \"category\",\n        \"num_unique_values\": 1,\n        \"samples\": [\n          \"IC50\"\n        ],\n        \"semantic_type\": \"\",\n        \"description\": \"\"\n      }\n    },\n    {\n      \"column\": \"standard_units\",\n      \"properties\": {\n        \"dtype\": \"category\",\n        \"num_unique_values\": 1,\n        \"samples\": [\n          \"nM\"\n        ],\n        \"semantic_type\": \"\",\n        \"description\": \"\"\n      }\n    },\n    {\n      \"column\": \"description\",\n      \"properties\": {\n        \"dtype\": \"category\",\n        \"num_unique_values\": 539,\n        \"samples\": [\n          \"Inhibition of human ERG tail current by plate-based planar patch clamp system\"\n        ],\n        \"semantic_type\": \"\",\n        \"description\": \"\"\n      }\n    },\n    {\n      \"column\": \"organism\",\n      \"properties\": {\n        \"dtype\": \"category\",\n        \"num_unique_values\": 1,\n        \"samples\": [\n          \"Homo sapiens\"\n        ],\n        \"semantic_type\": \"\",\n        \"description\": \"\"\n      }\n    },\n    {\n      \"column\": \"assay_type\",\n      \"properties\": {\n        \"dtype\": \"category\",\n        \"num_unique_values\": 2,\n        \"samples\": [\n          \"B\"\n        ],\n        \"semantic_type\": \"\",\n        \"description\": \"\"\n      }\n    },\n    {\n      \"column\": \"confidence_score\",\n      \"properties\": {\n        \"dtype\": \"number\",\n        \"std\": 0,\n        \"min\": 8,\n        \"max\": 9,\n        \"num_unique_values\": 2,\n        \"samples\": [\n          8\n        ],\n        \"semantic_type\": \"\",\n        \"description\": \"\"\n      }\n    },\n    {\n      \"column\": \"pref_name\",\n      \"properties\": {\n        \"dtype\": \"category\",\n        \"num_unique_values\": 1,\n        \"samples\": [\n          \"HERG\"\n        ],\n        \"semantic_type\": \"\",\n        \"description\": \"\"\n      }\n    },\n    {\n      \"column\": \"tgt_chembl_id\",\n      \"properties\": {\n        \"dtype\": \"category\",\n        \"num_unique_values\": 1,\n        \"samples\": [\n          \"CHEMBL240\"\n        ],\n        \"semantic_type\": \"\",\n        \"description\": \"\"\n      }\n    }\n  ]\n}"
            }
          },
          "metadata": {},
          "execution_count": 42
        }
      ]
    },
    {
      "cell_type": "markdown",
      "source": [
        "Examine the number of rows and columns in the dataframe"
      ],
      "metadata": {
        "id": "RzzPY0lnHKBN"
      }
    },
    {
      "cell_type": "code",
      "source": [
        "df.shape"
      ],
      "metadata": {
        "colab": {
          "base_uri": "https://localhost:8080/"
        },
        "id": "uNXQ2wHoHF8y",
        "outputId": "aa2f1540-90c2-4b2f-c03d-3fff54a46de7"
      },
      "execution_count": 43,
      "outputs": [
        {
          "output_type": "execute_result",
          "data": {
            "text/plain": [
              "(8989, 13)"
            ]
          },
          "metadata": {},
          "execution_count": 43
        }
      ]
    },
    {
      "cell_type": "markdown",
      "source": [
        "Getting an Overview of the Data\n",
        "\n",
        "We can also look at datatype for each of the columns via `df.dtypes`. We can also use the \"columns\" method to look at the column names via `df.columns`. The \"describe\" method provides summary statistics for numeric columns."
      ],
      "metadata": {
        "id": "5D15UZb0HR4G"
      }
    },
    {
      "cell_type": "code",
      "source": [
        "df.dtypes"
      ],
      "metadata": {
        "colab": {
          "base_uri": "https://localhost:8080/",
          "height": 486
        },
        "id": "_hIl8wlCHGED",
        "outputId": "82de62e0-3239-4cc0-e7d4-1e2a1430184f"
      },
      "execution_count": 44,
      "outputs": [
        {
          "output_type": "execute_result",
          "data": {
            "text/plain": [
              "canonical_smiles      object\n",
              "molregno               int64\n",
              "mol_chembl_id         object\n",
              "standard_relation     object\n",
              "standard_value       float64\n",
              "standard_type         object\n",
              "standard_units        object\n",
              "description           object\n",
              "organism              object\n",
              "assay_type            object\n",
              "confidence_score       int64\n",
              "pref_name             object\n",
              "tgt_chembl_id         object\n",
              "dtype: object"
            ],
            "text/html": [
              "<div>\n",
              "<style scoped>\n",
              "    .dataframe tbody tr th:only-of-type {\n",
              "        vertical-align: middle;\n",
              "    }\n",
              "\n",
              "    .dataframe tbody tr th {\n",
              "        vertical-align: top;\n",
              "    }\n",
              "\n",
              "    .dataframe thead th {\n",
              "        text-align: right;\n",
              "    }\n",
              "</style>\n",
              "<table border=\"1\" class=\"dataframe\">\n",
              "  <thead>\n",
              "    <tr style=\"text-align: right;\">\n",
              "      <th></th>\n",
              "      <th>0</th>\n",
              "    </tr>\n",
              "  </thead>\n",
              "  <tbody>\n",
              "    <tr>\n",
              "      <th>canonical_smiles</th>\n",
              "      <td>object</td>\n",
              "    </tr>\n",
              "    <tr>\n",
              "      <th>molregno</th>\n",
              "      <td>int64</td>\n",
              "    </tr>\n",
              "    <tr>\n",
              "      <th>mol_chembl_id</th>\n",
              "      <td>object</td>\n",
              "    </tr>\n",
              "    <tr>\n",
              "      <th>standard_relation</th>\n",
              "      <td>object</td>\n",
              "    </tr>\n",
              "    <tr>\n",
              "      <th>standard_value</th>\n",
              "      <td>float64</td>\n",
              "    </tr>\n",
              "    <tr>\n",
              "      <th>standard_type</th>\n",
              "      <td>object</td>\n",
              "    </tr>\n",
              "    <tr>\n",
              "      <th>standard_units</th>\n",
              "      <td>object</td>\n",
              "    </tr>\n",
              "    <tr>\n",
              "      <th>description</th>\n",
              "      <td>object</td>\n",
              "    </tr>\n",
              "    <tr>\n",
              "      <th>organism</th>\n",
              "      <td>object</td>\n",
              "    </tr>\n",
              "    <tr>\n",
              "      <th>assay_type</th>\n",
              "      <td>object</td>\n",
              "    </tr>\n",
              "    <tr>\n",
              "      <th>confidence_score</th>\n",
              "      <td>int64</td>\n",
              "    </tr>\n",
              "    <tr>\n",
              "      <th>pref_name</th>\n",
              "      <td>object</td>\n",
              "    </tr>\n",
              "    <tr>\n",
              "      <th>tgt_chembl_id</th>\n",
              "      <td>object</td>\n",
              "    </tr>\n",
              "  </tbody>\n",
              "</table>\n",
              "</div><br><label><b>dtype:</b> object</label>"
            ]
          },
          "metadata": {},
          "execution_count": 44
        }
      ]
    },
    {
      "cell_type": "code",
      "source": [
        "df.columns"
      ],
      "metadata": {
        "colab": {
          "base_uri": "https://localhost:8080/"
        },
        "id": "GHFWjxvlHGGY",
        "outputId": "f9bfbdc2-f474-4e90-e4b5-cd8486176f78"
      },
      "execution_count": 45,
      "outputs": [
        {
          "output_type": "execute_result",
          "data": {
            "text/plain": [
              "Index(['canonical_smiles', 'molregno', 'mol_chembl_id', 'standard_relation',\n",
              "       'standard_value', 'standard_type', 'standard_units', 'description',\n",
              "       'organism', 'assay_type', 'confidence_score', 'pref_name',\n",
              "       'tgt_chembl_id'],\n",
              "      dtype='object')"
            ]
          },
          "metadata": {},
          "execution_count": 45
        }
      ]
    },
    {
      "cell_type": "code",
      "source": [
        "df.describe()"
      ],
      "metadata": {
        "colab": {
          "base_uri": "https://localhost:8080/",
          "height": 297
        },
        "id": "DUMMhsmWHlTh",
        "outputId": "3ce3bf2d-7852-46aa-96fe-243b853bcc9d"
      },
      "execution_count": 46,
      "outputs": [
        {
          "output_type": "execute_result",
          "data": {
            "text/plain": [
              "           molregno  standard_value  confidence_score\n",
              "count  8.989000e+03    8.989000e+03       8989.000000\n",
              "mean   1.162010e+06    9.680188e+05          8.944599\n",
              "std    6.612153e+05    2.558712e+07          0.228774\n",
              "min    9.700000e+01    1.400000e-01          8.000000\n",
              "25%    5.569920e+05    1.880000e+03          9.000000\n",
              "50%    1.280901e+06    9.400000e+03          9.000000\n",
              "75%    1.748621e+06    2.900000e+04          9.000000\n",
              "max    2.196506e+06    1.000000e+09          9.000000"
            ],
            "text/html": [
              "\n",
              "  <div id=\"df-c742ddd2-85d4-45ca-98b9-0541446ad168\" class=\"colab-df-container\">\n",
              "    <div>\n",
              "<style scoped>\n",
              "    .dataframe tbody tr th:only-of-type {\n",
              "        vertical-align: middle;\n",
              "    }\n",
              "\n",
              "    .dataframe tbody tr th {\n",
              "        vertical-align: top;\n",
              "    }\n",
              "\n",
              "    .dataframe thead th {\n",
              "        text-align: right;\n",
              "    }\n",
              "</style>\n",
              "<table border=\"1\" class=\"dataframe\">\n",
              "  <thead>\n",
              "    <tr style=\"text-align: right;\">\n",
              "      <th></th>\n",
              "      <th>molregno</th>\n",
              "      <th>standard_value</th>\n",
              "      <th>confidence_score</th>\n",
              "    </tr>\n",
              "  </thead>\n",
              "  <tbody>\n",
              "    <tr>\n",
              "      <th>count</th>\n",
              "      <td>8.989000e+03</td>\n",
              "      <td>8.989000e+03</td>\n",
              "      <td>8989.000000</td>\n",
              "    </tr>\n",
              "    <tr>\n",
              "      <th>mean</th>\n",
              "      <td>1.162010e+06</td>\n",
              "      <td>9.680188e+05</td>\n",
              "      <td>8.944599</td>\n",
              "    </tr>\n",
              "    <tr>\n",
              "      <th>std</th>\n",
              "      <td>6.612153e+05</td>\n",
              "      <td>2.558712e+07</td>\n",
              "      <td>0.228774</td>\n",
              "    </tr>\n",
              "    <tr>\n",
              "      <th>min</th>\n",
              "      <td>9.700000e+01</td>\n",
              "      <td>1.400000e-01</td>\n",
              "      <td>8.000000</td>\n",
              "    </tr>\n",
              "    <tr>\n",
              "      <th>25%</th>\n",
              "      <td>5.569920e+05</td>\n",
              "      <td>1.880000e+03</td>\n",
              "      <td>9.000000</td>\n",
              "    </tr>\n",
              "    <tr>\n",
              "      <th>50%</th>\n",
              "      <td>1.280901e+06</td>\n",
              "      <td>9.400000e+03</td>\n",
              "      <td>9.000000</td>\n",
              "    </tr>\n",
              "    <tr>\n",
              "      <th>75%</th>\n",
              "      <td>1.748621e+06</td>\n",
              "      <td>2.900000e+04</td>\n",
              "      <td>9.000000</td>\n",
              "    </tr>\n",
              "    <tr>\n",
              "      <th>max</th>\n",
              "      <td>2.196506e+06</td>\n",
              "      <td>1.000000e+09</td>\n",
              "      <td>9.000000</td>\n",
              "    </tr>\n",
              "  </tbody>\n",
              "</table>\n",
              "</div>\n",
              "    <div class=\"colab-df-buttons\">\n",
              "\n",
              "  <div class=\"colab-df-container\">\n",
              "    <button class=\"colab-df-convert\" onclick=\"convertToInteractive('df-c742ddd2-85d4-45ca-98b9-0541446ad168')\"\n",
              "            title=\"Convert this dataframe to an interactive table.\"\n",
              "            style=\"display:none;\">\n",
              "\n",
              "  <svg xmlns=\"http://www.w3.org/2000/svg\" height=\"24px\" viewBox=\"0 -960 960 960\">\n",
              "    <path d=\"M120-120v-720h720v720H120Zm60-500h600v-160H180v160Zm220 220h160v-160H400v160Zm0 220h160v-160H400v160ZM180-400h160v-160H180v160Zm440 0h160v-160H620v160ZM180-180h160v-160H180v160Zm440 0h160v-160H620v160Z\"/>\n",
              "  </svg>\n",
              "    </button>\n",
              "\n",
              "  <style>\n",
              "    .colab-df-container {\n",
              "      display:flex;\n",
              "      gap: 12px;\n",
              "    }\n",
              "\n",
              "    .colab-df-convert {\n",
              "      background-color: #E8F0FE;\n",
              "      border: none;\n",
              "      border-radius: 50%;\n",
              "      cursor: pointer;\n",
              "      display: none;\n",
              "      fill: #1967D2;\n",
              "      height: 32px;\n",
              "      padding: 0 0 0 0;\n",
              "      width: 32px;\n",
              "    }\n",
              "\n",
              "    .colab-df-convert:hover {\n",
              "      background-color: #E2EBFA;\n",
              "      box-shadow: 0px 1px 2px rgba(60, 64, 67, 0.3), 0px 1px 3px 1px rgba(60, 64, 67, 0.15);\n",
              "      fill: #174EA6;\n",
              "    }\n",
              "\n",
              "    .colab-df-buttons div {\n",
              "      margin-bottom: 4px;\n",
              "    }\n",
              "\n",
              "    [theme=dark] .colab-df-convert {\n",
              "      background-color: #3B4455;\n",
              "      fill: #D2E3FC;\n",
              "    }\n",
              "\n",
              "    [theme=dark] .colab-df-convert:hover {\n",
              "      background-color: #434B5C;\n",
              "      box-shadow: 0px 1px 3px 1px rgba(0, 0, 0, 0.15);\n",
              "      filter: drop-shadow(0px 1px 2px rgba(0, 0, 0, 0.3));\n",
              "      fill: #FFFFFF;\n",
              "    }\n",
              "  </style>\n",
              "\n",
              "    <script>\n",
              "      const buttonEl =\n",
              "        document.querySelector('#df-c742ddd2-85d4-45ca-98b9-0541446ad168 button.colab-df-convert');\n",
              "      buttonEl.style.display =\n",
              "        google.colab.kernel.accessAllowed ? 'block' : 'none';\n",
              "\n",
              "      async function convertToInteractive(key) {\n",
              "        const element = document.querySelector('#df-c742ddd2-85d4-45ca-98b9-0541446ad168');\n",
              "        const dataTable =\n",
              "          await google.colab.kernel.invokeFunction('convertToInteractive',\n",
              "                                                    [key], {});\n",
              "        if (!dataTable) return;\n",
              "\n",
              "        const docLinkHtml = 'Like what you see? Visit the ' +\n",
              "          '<a target=\"_blank\" href=https://colab.research.google.com/notebooks/data_table.ipynb>data table notebook</a>'\n",
              "          + ' to learn more about interactive tables.';\n",
              "        element.innerHTML = '';\n",
              "        dataTable['output_type'] = 'display_data';\n",
              "        await google.colab.output.renderOutput(dataTable, element);\n",
              "        const docLink = document.createElement('div');\n",
              "        docLink.innerHTML = docLinkHtml;\n",
              "        element.appendChild(docLink);\n",
              "      }\n",
              "    </script>\n",
              "  </div>\n",
              "\n",
              "\n",
              "    <div id=\"df-0f565cbb-b9d2-446a-99b9-735d877ffd3c\">\n",
              "      <button class=\"colab-df-quickchart\" onclick=\"quickchart('df-0f565cbb-b9d2-446a-99b9-735d877ffd3c')\"\n",
              "                title=\"Suggest charts\"\n",
              "                style=\"display:none;\">\n",
              "\n",
              "<svg xmlns=\"http://www.w3.org/2000/svg\" height=\"24px\"viewBox=\"0 0 24 24\"\n",
              "     width=\"24px\">\n",
              "    <g>\n",
              "        <path d=\"M19 3H5c-1.1 0-2 .9-2 2v14c0 1.1.9 2 2 2h14c1.1 0 2-.9 2-2V5c0-1.1-.9-2-2-2zM9 17H7v-7h2v7zm4 0h-2V7h2v10zm4 0h-2v-4h2v4z\"/>\n",
              "    </g>\n",
              "</svg>\n",
              "      </button>\n",
              "\n",
              "<style>\n",
              "  .colab-df-quickchart {\n",
              "      --bg-color: #E8F0FE;\n",
              "      --fill-color: #1967D2;\n",
              "      --hover-bg-color: #E2EBFA;\n",
              "      --hover-fill-color: #174EA6;\n",
              "      --disabled-fill-color: #AAA;\n",
              "      --disabled-bg-color: #DDD;\n",
              "  }\n",
              "\n",
              "  [theme=dark] .colab-df-quickchart {\n",
              "      --bg-color: #3B4455;\n",
              "      --fill-color: #D2E3FC;\n",
              "      --hover-bg-color: #434B5C;\n",
              "      --hover-fill-color: #FFFFFF;\n",
              "      --disabled-bg-color: #3B4455;\n",
              "      --disabled-fill-color: #666;\n",
              "  }\n",
              "\n",
              "  .colab-df-quickchart {\n",
              "    background-color: var(--bg-color);\n",
              "    border: none;\n",
              "    border-radius: 50%;\n",
              "    cursor: pointer;\n",
              "    display: none;\n",
              "    fill: var(--fill-color);\n",
              "    height: 32px;\n",
              "    padding: 0;\n",
              "    width: 32px;\n",
              "  }\n",
              "\n",
              "  .colab-df-quickchart:hover {\n",
              "    background-color: var(--hover-bg-color);\n",
              "    box-shadow: 0 1px 2px rgba(60, 64, 67, 0.3), 0 1px 3px 1px rgba(60, 64, 67, 0.15);\n",
              "    fill: var(--button-hover-fill-color);\n",
              "  }\n",
              "\n",
              "  .colab-df-quickchart-complete:disabled,\n",
              "  .colab-df-quickchart-complete:disabled:hover {\n",
              "    background-color: var(--disabled-bg-color);\n",
              "    fill: var(--disabled-fill-color);\n",
              "    box-shadow: none;\n",
              "  }\n",
              "\n",
              "  .colab-df-spinner {\n",
              "    border: 2px solid var(--fill-color);\n",
              "    border-color: transparent;\n",
              "    border-bottom-color: var(--fill-color);\n",
              "    animation:\n",
              "      spin 1s steps(1) infinite;\n",
              "  }\n",
              "\n",
              "  @keyframes spin {\n",
              "    0% {\n",
              "      border-color: transparent;\n",
              "      border-bottom-color: var(--fill-color);\n",
              "      border-left-color: var(--fill-color);\n",
              "    }\n",
              "    20% {\n",
              "      border-color: transparent;\n",
              "      border-left-color: var(--fill-color);\n",
              "      border-top-color: var(--fill-color);\n",
              "    }\n",
              "    30% {\n",
              "      border-color: transparent;\n",
              "      border-left-color: var(--fill-color);\n",
              "      border-top-color: var(--fill-color);\n",
              "      border-right-color: var(--fill-color);\n",
              "    }\n",
              "    40% {\n",
              "      border-color: transparent;\n",
              "      border-right-color: var(--fill-color);\n",
              "      border-top-color: var(--fill-color);\n",
              "    }\n",
              "    60% {\n",
              "      border-color: transparent;\n",
              "      border-right-color: var(--fill-color);\n",
              "    }\n",
              "    80% {\n",
              "      border-color: transparent;\n",
              "      border-right-color: var(--fill-color);\n",
              "      border-bottom-color: var(--fill-color);\n",
              "    }\n",
              "    90% {\n",
              "      border-color: transparent;\n",
              "      border-bottom-color: var(--fill-color);\n",
              "    }\n",
              "  }\n",
              "</style>\n",
              "\n",
              "      <script>\n",
              "        async function quickchart(key) {\n",
              "          const quickchartButtonEl =\n",
              "            document.querySelector('#' + key + ' button');\n",
              "          quickchartButtonEl.disabled = true;  // To prevent multiple clicks.\n",
              "          quickchartButtonEl.classList.add('colab-df-spinner');\n",
              "          try {\n",
              "            const charts = await google.colab.kernel.invokeFunction(\n",
              "                'suggestCharts', [key], {});\n",
              "          } catch (error) {\n",
              "            console.error('Error during call to suggestCharts:', error);\n",
              "          }\n",
              "          quickchartButtonEl.classList.remove('colab-df-spinner');\n",
              "          quickchartButtonEl.classList.add('colab-df-quickchart-complete');\n",
              "        }\n",
              "        (() => {\n",
              "          let quickchartButtonEl =\n",
              "            document.querySelector('#df-0f565cbb-b9d2-446a-99b9-735d877ffd3c button');\n",
              "          quickchartButtonEl.style.display =\n",
              "            google.colab.kernel.accessAllowed ? 'block' : 'none';\n",
              "        })();\n",
              "      </script>\n",
              "    </div>\n",
              "\n",
              "    </div>\n",
              "  </div>\n"
            ],
            "application/vnd.google.colaboratory.intrinsic+json": {
              "type": "dataframe",
              "summary": "{\n  \"name\": \"df\",\n  \"rows\": 8,\n  \"fields\": [\n    {\n      \"column\": \"molregno\",\n      \"properties\": {\n        \"dtype\": \"number\",\n        \"std\": 790267.2614758391,\n        \"min\": 97.0,\n        \"max\": 2196506.0,\n        \"num_unique_values\": 8,\n        \"samples\": [\n          1162010.1288241183,\n          1280901.0,\n          8989.0\n        ],\n        \"semantic_type\": \"\",\n        \"description\": \"\"\n      }\n    },\n    {\n      \"column\": \"standard_value\",\n      \"properties\": {\n        \"dtype\": \"number\",\n        \"std\": 352322105.7122423,\n        \"min\": 0.14,\n        \"max\": 1000000000.0,\n        \"num_unique_values\": 8,\n        \"samples\": [\n          968018.7888525977,\n          9400.0,\n          8989.0\n        ],\n        \"semantic_type\": \"\",\n        \"description\": \"\"\n      }\n    },\n    {\n      \"column\": \"confidence_score\",\n      \"properties\": {\n        \"dtype\": \"number\",\n        \"std\": 3175.4072099861605,\n        \"min\": 0.2287741074940508,\n        \"max\": 8989.0,\n        \"num_unique_values\": 5,\n        \"samples\": [\n          8.94459895427745,\n          9.0,\n          0.2287741074940508\n        ],\n        \"semantic_type\": \"\",\n        \"description\": \"\"\n      }\n    }\n  ]\n}"
            }
          },
          "metadata": {},
          "execution_count": 46
        }
      ]
    },
    {
      "cell_type": "markdown",
      "source": [
        "Finding Duplicate Molecules\n",
        "\n",
        "Recall that our dataframe contains 8989 rows. Let's see how many unique molregno values are in the dataframe. Duplicate molregno values will be same molecule, so we'll average the values for those molecules."
      ],
      "metadata": {
        "id": "qtDr8NYxHwkm"
      }
    },
    {
      "cell_type": "code",
      "source": [
        "print(len(df))\n",
        "print(len(df.molregno.unique()))"
      ],
      "metadata": {
        "colab": {
          "base_uri": "https://localhost:8080/"
        },
        "id": "U7iqzUdyH0_Z",
        "outputId": "cf1a6479-b51f-48d6-9774-c6c8a0518fe0"
      },
      "execution_count": 47,
      "outputs": [
        {
          "output_type": "stream",
          "name": "stdout",
          "text": [
            "8989\n",
            "7438\n"
          ]
        }
      ]
    },
    {
      "cell_type": "markdown",
      "source": [
        "Examining Assay Types\n",
        "\n",
        "The dataframe contains two types of assays, binding assays (B), and functional assays (F). Let's make a bar chart to see how many of each are in the dataframe."
      ],
      "metadata": {
        "id": "mVdgkiFlIV0J"
      }
    },
    {
      "cell_type": "code",
      "source": [
        "df.assay_type.value_counts().plot(kind='bar')"
      ],
      "metadata": {
        "colab": {
          "base_uri": "https://localhost:8080/",
          "height": 284
        },
        "id": "LuWpq3FAH7CG",
        "outputId": "97757c13-c52a-48f6-ae29-db1a1e3cacec"
      },
      "execution_count": 48,
      "outputs": [
        {
          "output_type": "execute_result",
          "data": {
            "text/plain": [
              "<Axes: xlabel='assay_type'>"
            ]
          },
          "metadata": {},
          "execution_count": 48
        },
        {
          "output_type": "display_data",
          "data": {
            "text/plain": [
              "<Figure size 200x200 with 1 Axes>"
            ],
            "image/png": "[encoded data removed]"
          },
          "metadata": {}
        }
      ]
    },
    {
      "cell_type": "markdown",
      "source": [
        "We can also transform data using `df.apply`\n",
        "\n",
        "\n"
      ],
      "metadata": {
        "id": "qFytNNd6IinG"
      }
    },
    {
      "cell_type": "code",
      "source": [
        "import math\n",
        "\n",
        "df[\"pIC50\"] = df[\"standard_value\"].apply(lambda x: -math.log10(x*1e-9))"
      ],
      "metadata": {
        "id": "Bf6TthXekA6y"
      },
      "execution_count": 50,
      "outputs": []
    },
    {
      "cell_type": "markdown",
      "source": [
        "We can sort the whole table based on a specific column"
      ],
      "metadata": {
        "id": "IWAIs26tkyKv"
      }
    },
    {
      "cell_type": "code",
      "source": [
        "df.sort_values(by=\"pIC50\", ascending=True).head(5)\n",
        "## return a new DataFrame. If you want to change in place, add the flag inplace=True\n",
        "# df.sort_values(by=\"pIC50\", ascending=True, inplace=True)\n",
        "\n",
        "## if you want to reorganise the index, use the flag ignore_index\n",
        "# df.sort_values(by=\"pIC50\", ascending=True, ignore_index=True)"
      ],
      "metadata": {
        "colab": {
          "base_uri": "https://localhost:8080/",
          "height": 411
        },
        "id": "BYi75G2bk_0q",
        "outputId": "0d94d7a5-7b17-410e-e491-ec38d3ebbf4d"
      },
      "execution_count": 53,
      "outputs": [
        {
          "output_type": "execute_result",
          "data": {
            "text/plain": [
              "                                       canonical_smiles  molregno  \\\n",
              "6579          O=C1NOC(=C1)[C@H]2CCN[C@@H](CCc3ccccc3)C2   1758385   \n",
              "6577           O=C1NOC(=C1)[C@H]2CCN[C@@H](Cc3ccccc3)C2   1758380   \n",
              "6578            CC(C)(C)C[C@H]1C[C@H](CCN1)C2=CC(=O)NO2   1758382   \n",
              "842   COc1ccccc1Oc2ccccc2CN3CCC4(CC3)CCN(CC4)C(=O)c5...    440049   \n",
              "845   OCc1ccc(OC2CCN(CC3CCN(CC3)[C@@H](Cc4ccccc4)C(=...    440263   \n",
              "\n",
              "      mol_chembl_id standard_relation  standard_value standard_type  \\\n",
              "6579  CHEMBL3287854                 >    1.000000e+09          IC50   \n",
              "6577  CHEMBL3287849                 >    1.000000e+09          IC50   \n",
              "6578  CHEMBL3287851                 >    1.000000e+09          IC50   \n",
              "842    CHEMBL408483                 =    9.549926e+08          IC50   \n",
              "845    CHEMBL272842                 =    7.585776e+08          IC50   \n",
              "\n",
              "     standard_units                                        description  \\\n",
              "6579             nM                            Inhibition of human ERG   \n",
              "6577             nM                            Inhibition of human ERG   \n",
              "6578             nM                            Inhibition of human ERG   \n",
              "842              nM  Displacement of [3H]dofetilide from human reco...   \n",
              "845              nM  Displacement of [3H]dofetilide from human reco...   \n",
              "\n",
              "          organism assay_type  confidence_score pref_name tgt_chembl_id  pIC50  \n",
              "6579  Homo sapiens          B                 9      HERG     CHEMBL240  -0.00  \n",
              "6577  Homo sapiens          B                 9      HERG     CHEMBL240  -0.00  \n",
              "6578  Homo sapiens          B                 9      HERG     CHEMBL240  -0.00  \n",
              "842   Homo sapiens          B                 9      HERG     CHEMBL240   0.02  \n",
              "845   Homo sapiens          B                 9      HERG     CHEMBL240   0.12  "
            ],
            "text/html": [
              "\n",
              "  <div id=\"df-56fe6cab-3bba-4fe3-923a-b33e0fe5e542\" class=\"colab-df-container\">\n",
              "    <div>\n",
              "<style scoped>\n",
              "    .dataframe tbody tr th:only-of-type {\n",
              "        vertical-align: middle;\n",
              "    }\n",
              "\n",
              "    .dataframe tbody tr th {\n",
              "        vertical-align: top;\n",
              "    }\n",
              "\n",
              "    .dataframe thead th {\n",
              "        text-align: right;\n",
              "    }\n",
              "</style>\n",
              "<table border=\"1\" class=\"dataframe\">\n",
              "  <thead>\n",
              "    <tr style=\"text-align: right;\">\n",
              "      <th></th>\n",
              "      <th>canonical_smiles</th>\n",
              "      <th>molregno</th>\n",
              "      <th>mol_chembl_id</th>\n",
              "      <th>standard_relation</th>\n",
              "      <th>standard_value</th>\n",
              "      <th>standard_type</th>\n",
              "      <th>standard_units</th>\n",
              "      <th>description</th>\n",
              "      <th>organism</th>\n",
              "      <th>assay_type</th>\n",
              "      <th>confidence_score</th>\n",
              "      <th>pref_name</th>\n",
              "      <th>tgt_chembl_id</th>\n",
              "      <th>pIC50</th>\n",
              "    </tr>\n",
              "  </thead>\n",
              "  <tbody>\n",
              "    <tr>\n",
              "      <th>6579</th>\n",
              "      <td>O=C1NOC(=C1)[C@H]2CCN[C@@H](CCc3ccccc3)C2</td>\n",
              "      <td>1758385</td>\n",
              "      <td>CHEMBL3287854</td>\n",
              "      <td>&gt;</td>\n",
              "      <td>1.000000e+09</td>\n",
              "      <td>IC50</td>\n",
              "      <td>nM</td>\n",
              "      <td>Inhibition of human ERG</td>\n",
              "      <td>Homo sapiens</td>\n",
              "      <td>B</td>\n",
              "      <td>9</td>\n",
              "      <td>HERG</td>\n",
              "      <td>CHEMBL240</td>\n",
              "      <td>-0.00</td>\n",
              "    </tr>\n",
              "    <tr>\n",
              "      <th>6577</th>\n",
              "      <td>O=C1NOC(=C1)[C@H]2CCN[C@@H](Cc3ccccc3)C2</td>\n",
              "      <td>1758380</td>\n",
              "      <td>CHEMBL3287849</td>\n",
              "      <td>&gt;</td>\n",
              "      <td>1.000000e+09</td>\n",
              "      <td>IC50</td>\n",
              "      <td>nM</td>\n",
              "      <td>Inhibition of human ERG</td>\n",
              "      <td>Homo sapiens</td>\n",
              "      <td>B</td>\n",
              "      <td>9</td>\n",
              "      <td>HERG</td>\n",
              "      <td>CHEMBL240</td>\n",
              "      <td>-0.00</td>\n",
              "    </tr>\n",
              "    <tr>\n",
              "      <th>6578</th>\n",
              "      <td>CC(C)(C)C[C@H]1C[C@H](CCN1)C2=CC(=O)NO2</td>\n",
              "      <td>1758382</td>\n",
              "      <td>CHEMBL3287851</td>\n",
              "      <td>&gt;</td>\n",
              "      <td>1.000000e+09</td>\n",
              "      <td>IC50</td>\n",
              "      <td>nM</td>\n",
              "      <td>Inhibition of human ERG</td>\n",
              "      <td>Homo sapiens</td>\n",
              "      <td>B</td>\n",
              "      <td>9</td>\n",
              "      <td>HERG</td>\n",
              "      <td>CHEMBL240</td>\n",
              "      <td>-0.00</td>\n",
              "    </tr>\n",
              "    <tr>\n",
              "      <th>842</th>\n",
              "      <td>COc1ccccc1Oc2ccccc2CN3CCC4(CC3)CCN(CC4)C(=O)c5...</td>\n",
              "      <td>440049</td>\n",
              "      <td>CHEMBL408483</td>\n",
              "      <td>=</td>\n",
              "      <td>9.549926e+08</td>\n",
              "      <td>IC50</td>\n",
              "      <td>nM</td>\n",
              "      <td>Displacement of [3H]dofetilide from human reco...</td>\n",
              "      <td>Homo sapiens</td>\n",
              "      <td>B</td>\n",
              "      <td>9</td>\n",
              "      <td>HERG</td>\n",
              "      <td>CHEMBL240</td>\n",
              "      <td>0.02</td>\n",
              "    </tr>\n",
              "    <tr>\n",
              "      <th>845</th>\n",
              "      <td>OCc1ccc(OC2CCN(CC3CCN(CC3)[C@@H](Cc4ccccc4)C(=...</td>\n",
              "      <td>440263</td>\n",
              "      <td>CHEMBL272842</td>\n",
              "      <td>=</td>\n",
              "      <td>7.585776e+08</td>\n",
              "      <td>IC50</td>\n",
              "      <td>nM</td>\n",
              "      <td>Displacement of [3H]dofetilide from human reco...</td>\n",
              "      <td>Homo sapiens</td>\n",
              "      <td>B</td>\n",
              "      <td>9</td>\n",
              "      <td>HERG</td>\n",
              "      <td>CHEMBL240</td>\n",
              "      <td>0.12</td>\n",
              "    </tr>\n",
              "  </tbody>\n",
              "</table>\n",
              "</div>\n",
              "    <div class=\"colab-df-buttons\">\n",
              "\n",
              "  <div class=\"colab-df-container\">\n",
              "    <button class=\"colab-df-convert\" onclick=\"convertToInteractive('df-56fe6cab-3bba-4fe3-923a-b33e0fe5e542')\"\n",
              "            title=\"Convert this dataframe to an interactive table.\"\n",
              "            style=\"display:none;\">\n",
              "\n",
              "  <svg xmlns=\"http://www.w3.org/2000/svg\" height=\"24px\" viewBox=\"0 -960 960 960\">\n",
              "    <path d=\"M120-120v-720h720v720H120Zm60-500h600v-160H180v160Zm220 220h160v-160H400v160Zm0 220h160v-160H400v160ZM180-400h160v-160H180v160Zm440 0h160v-160H620v160ZM180-180h160v-160H180v160Zm440 0h160v-160H620v160Z\"/>\n",
              "  </svg>\n",
              "    </button>\n",
              "\n",
              "  <style>\n",
              "    .colab-df-container {\n",
              "      display:flex;\n",
              "      gap: 12px;\n",
              "    }\n",
              "\n",
              "    .colab-df-convert {\n",
              "      background-color: #E8F0FE;\n",
              "      border: none;\n",
              "      border-radius: 50%;\n",
              "      cursor: pointer;\n",
              "      display: none;\n",
              "      fill: #1967D2;\n",
              "      height: 32px;\n",
              "      padding: 0 0 0 0;\n",
              "      width: 32px;\n",
              "    }\n",
              "\n",
              "    .colab-df-convert:hover {\n",
              "      background-color: #E2EBFA;\n",
              "      box-shadow: 0px 1px 2px rgba(60, 64, 67, 0.3), 0px 1px 3px 1px rgba(60, 64, 67, 0.15);\n",
              "      fill: #174EA6;\n",
              "    }\n",
              "\n",
              "    .colab-df-buttons div {\n",
              "      margin-bottom: 4px;\n",
              "    }\n",
              "\n",
              "    [theme=dark] .colab-df-convert {\n",
              "      background-color: #3B4455;\n",
              "      fill: #D2E3FC;\n",
              "    }\n",
              "\n",
              "    [theme=dark] .colab-df-convert:hover {\n",
              "      background-color: #434B5C;\n",
              "      box-shadow: 0px 1px 3px 1px rgba(0, 0, 0, 0.15);\n",
              "      filter: drop-shadow(0px 1px 2px rgba(0, 0, 0, 0.3));\n",
              "      fill: #FFFFFF;\n",
              "    }\n",
              "  </style>\n",
              "\n",
              "    <script>\n",
              "      const buttonEl =\n",
              "        document.querySelector('#df-56fe6cab-3bba-4fe3-923a-b33e0fe5e542 button.colab-df-convert');\n",
              "      buttonEl.style.display =\n",
              "        google.colab.kernel.accessAllowed ? 'block' : 'none';\n",
              "\n",
              "      async function convertToInteractive(key) {\n",
              "        const element = document.querySelector('#df-56fe6cab-3bba-4fe3-923a-b33e0fe5e542');\n",
              "        const dataTable =\n",
              "          await google.colab.kernel.invokeFunction('convertToInteractive',\n",
              "                                                    [key], {});\n",
              "        if (!dataTable) return;\n",
              "\n",
              "        const docLinkHtml = 'Like what you see? Visit the ' +\n",
              "          '<a target=\"_blank\" href=https://colab.research.google.com/notebooks/data_table.ipynb>data table notebook</a>'\n",
              "          + ' to learn more about interactive tables.';\n",
              "        element.innerHTML = '';\n",
              "        dataTable['output_type'] = 'display_data';\n",
              "        await google.colab.output.renderOutput(dataTable, element);\n",
              "        const docLink = document.createElement('div');\n",
              "        docLink.innerHTML = docLinkHtml;\n",
              "        element.appendChild(docLink);\n",
              "      }\n",
              "    </script>\n",
              "  </div>\n",
              "\n",
              "\n",
              "    <div id=\"df-c0c5d5b2-1050-4006-8a73-55bd044c6bf4\">\n",
              "      <button class=\"colab-df-quickchart\" onclick=\"quickchart('df-c0c5d5b2-1050-4006-8a73-55bd044c6bf4')\"\n",
              "                title=\"Suggest charts\"\n",
              "                style=\"display:none;\">\n",
              "\n",
              "<svg xmlns=\"http://www.w3.org/2000/svg\" height=\"24px\"viewBox=\"0 0 24 24\"\n",
              "     width=\"24px\">\n",
              "    <g>\n",
              "        <path d=\"M19 3H5c-1.1 0-2 .9-2 2v14c0 1.1.9 2 2 2h14c1.1 0 2-.9 2-2V5c0-1.1-.9-2-2-2zM9 17H7v-7h2v7zm4 0h-2V7h2v10zm4 0h-2v-4h2v4z\"/>\n",
              "    </g>\n",
              "</svg>\n",
              "      </button>\n",
              "\n",
              "<style>\n",
              "  .colab-df-quickchart {\n",
              "      --bg-color: #E8F0FE;\n",
              "      --fill-color: #1967D2;\n",
              "      --hover-bg-color: #E2EBFA;\n",
              "      --hover-fill-color: #174EA6;\n",
              "      --disabled-fill-color: #AAA;\n",
              "      --disabled-bg-color: #DDD;\n",
              "  }\n",
              "\n",
              "  [theme=dark] .colab-df-quickchart {\n",
              "      --bg-color: #3B4455;\n",
              "      --fill-color: #D2E3FC;\n",
              "      --hover-bg-color: #434B5C;\n",
              "      --hover-fill-color: #FFFFFF;\n",
              "      --disabled-bg-color: #3B4455;\n",
              "      --disabled-fill-color: #666;\n",
              "  }\n",
              "\n",
              "  .colab-df-quickchart {\n",
              "    background-color: var(--bg-color);\n",
              "    border: none;\n",
              "    border-radius: 50%;\n",
              "    cursor: pointer;\n",
              "    display: none;\n",
              "    fill: var(--fill-color);\n",
              "    height: 32px;\n",
              "    padding: 0;\n",
              "    width: 32px;\n",
              "  }\n",
              "\n",
              "  .colab-df-quickchart:hover {\n",
              "    background-color: var(--hover-bg-color);\n",
              "    box-shadow: 0 1px 2px rgba(60, 64, 67, 0.3), 0 1px 3px 1px rgba(60, 64, 67, 0.15);\n",
              "    fill: var(--button-hover-fill-color);\n",
              "  }\n",
              "\n",
              "  .colab-df-quickchart-complete:disabled,\n",
              "  .colab-df-quickchart-complete:disabled:hover {\n",
              "    background-color: var(--disabled-bg-color);\n",
              "    fill: var(--disabled-fill-color);\n",
              "    box-shadow: none;\n",
              "  }\n",
              "\n",
              "  .colab-df-spinner {\n",
              "    border: 2px solid var(--fill-color);\n",
              "    border-color: transparent;\n",
              "    border-bottom-color: var(--fill-color);\n",
              "    animation:\n",
              "      spin 1s steps(1) infinite;\n",
              "  }\n",
              "\n",
              "  @keyframes spin {\n",
              "    0% {\n",
              "      border-color: transparent;\n",
              "      border-bottom-color: var(--fill-color);\n",
              "      border-left-color: var(--fill-color);\n",
              "    }\n",
              "    20% {\n",
              "      border-color: transparent;\n",
              "      border-left-color: var(--fill-color);\n",
              "      border-top-color: var(--fill-color);\n",
              "    }\n",
              "    30% {\n",
              "      border-color: transparent;\n",
              "      border-left-color: var(--fill-color);\n",
              "      border-top-color: var(--fill-color);\n",
              "      border-right-color: var(--fill-color);\n",
              "    }\n",
              "    40% {\n",
              "      border-color: transparent;\n",
              "      border-right-color: var(--fill-color);\n",
              "      border-top-color: var(--fill-color);\n",
              "    }\n",
              "    60% {\n",
              "      border-color: transparent;\n",
              "      border-right-color: var(--fill-color);\n",
              "    }\n",
              "    80% {\n",
              "      border-color: transparent;\n",
              "      border-right-color: var(--fill-color);\n",
              "      border-bottom-color: var(--fill-color);\n",
              "    }\n",
              "    90% {\n",
              "      border-color: transparent;\n",
              "      border-bottom-color: var(--fill-color);\n",
              "    }\n",
              "  }\n",
              "</style>\n",
              "\n",
              "      <script>\n",
              "        async function quickchart(key) {\n",
              "          const quickchartButtonEl =\n",
              "            document.querySelector('#' + key + ' button');\n",
              "          quickchartButtonEl.disabled = true;  // To prevent multiple clicks.\n",
              "          quickchartButtonEl.classList.add('colab-df-spinner');\n",
              "          try {\n",
              "            const charts = await google.colab.kernel.invokeFunction(\n",
              "                'suggestCharts', [key], {});\n",
              "          } catch (error) {\n",
              "            console.error('Error during call to suggestCharts:', error);\n",
              "          }\n",
              "          quickchartButtonEl.classList.remove('colab-df-spinner');\n",
              "          quickchartButtonEl.classList.add('colab-df-quickchart-complete');\n",
              "        }\n",
              "        (() => {\n",
              "          let quickchartButtonEl =\n",
              "            document.querySelector('#df-c0c5d5b2-1050-4006-8a73-55bd044c6bf4 button');\n",
              "          quickchartButtonEl.style.display =\n",
              "            google.colab.kernel.accessAllowed ? 'block' : 'none';\n",
              "        })();\n",
              "      </script>\n",
              "    </div>\n",
              "\n",
              "    </div>\n",
              "  </div>\n"
            ],
            "application/vnd.google.colaboratory.intrinsic+json": {
              "type": "dataframe",
              "summary": "{\n  \"name\": \"# df\",\n  \"rows\": 5,\n  \"fields\": [\n    {\n      \"column\": \"canonical_smiles\",\n      \"properties\": {\n        \"dtype\": \"string\",\n        \"num_unique_values\": 5,\n        \"samples\": [\n          \"O=C1NOC(=C1)[C@H]2CCN[C@@H](Cc3ccccc3)C2\",\n          \"OCc1ccc(OC2CCN(CC3CCN(CC3)[C@@H](Cc4ccccc4)C(=O)O)CC2)cc1Cl\",\n          \"CC(C)(C)C[C@H]1C[C@H](CCN1)C2=CC(=O)NO2\"\n        ],\n        \"semantic_type\": \"\",\n        \"description\": \"\"\n      }\n    },\n    {\n      \"column\": \"molregno\",\n      \"properties\": {\n        \"dtype\": \"number\",\n        \"std\": 722022,\n        \"min\": 440049,\n        \"max\": 1758385,\n        \"num_unique_values\": 5,\n        \"samples\": [\n          1758380,\n          440263,\n          1758382\n        ],\n        \"semantic_type\": \"\",\n        \"description\": \"\"\n      }\n    },\n    {\n      \"column\": \"mol_chembl_id\",\n      \"properties\": {\n        \"dtype\": \"string\",\n        \"num_unique_values\": 5,\n        \"samples\": [\n          \"CHEMBL3287849\",\n          \"CHEMBL272842\",\n          \"CHEMBL3287851\"\n        ],\n        \"semantic_type\": \"\",\n        \"description\": \"\"\n      }\n    },\n    {\n      \"column\": \"standard_relation\",\n      \"properties\": {\n        \"dtype\": \"category\",\n        \"num_unique_values\": 2,\n        \"samples\": [\n          \"=\",\n          \">\"\n        ],\n        \"semantic_type\": \"\",\n        \"description\": \"\"\n      }\n    },\n    {\n      \"column\": \"standard_value\",\n      \"properties\": {\n        \"dtype\": \"number\",\n        \"std\": 104764073.1159516,\n        \"min\": 758577575.03,\n        \"max\": 1000000000.0,\n        \"num_unique_values\": 3,\n        \"samples\": [\n          1000000000.0,\n          954992586.02\n        ],\n        \"semantic_type\": \"\",\n        \"description\": \"\"\n      }\n    },\n    {\n      \"column\": \"standard_type\",\n      \"properties\": {\n        \"dtype\": \"category\",\n        \"num_unique_values\": 1,\n        \"samples\": [\n          \"IC50\"\n        ],\n        \"semantic_type\": \"\",\n        \"description\": \"\"\n      }\n    },\n    {\n      \"column\": \"standard_units\",\n      \"properties\": {\n        \"dtype\": \"category\",\n        \"num_unique_values\": 1,\n        \"samples\": [\n          \"nM\"\n        ],\n        \"semantic_type\": \"\",\n        \"description\": \"\"\n      }\n    },\n    {\n      \"column\": \"description\",\n      \"properties\": {\n        \"dtype\": \"category\",\n        \"num_unique_values\": 2,\n        \"samples\": [\n          \"Displacement of [3H]dofetilide from human recombinant ERG potassium channel expressed in HEK293 cells by patch clamp method\"\n        ],\n        \"semantic_type\": \"\",\n        \"description\": \"\"\n      }\n    },\n    {\n      \"column\": \"organism\",\n      \"properties\": {\n        \"dtype\": \"category\",\n        \"num_unique_values\": 1,\n        \"samples\": [\n          \"Homo sapiens\"\n        ],\n        \"semantic_type\": \"\",\n        \"description\": \"\"\n      }\n    },\n    {\n      \"column\": \"assay_type\",\n      \"properties\": {\n        \"dtype\": \"category\",\n        \"num_unique_values\": 1,\n        \"samples\": [\n          \"B\"\n        ],\n        \"semantic_type\": \"\",\n        \"description\": \"\"\n      }\n    },\n    {\n      \"column\": \"confidence_score\",\n      \"properties\": {\n        \"dtype\": \"number\",\n        \"std\": 0,\n        \"min\": 9,\n        \"max\": 9,\n        \"num_unique_values\": 1,\n        \"samples\": [\n          9\n        ],\n        \"semantic_type\": \"\",\n        \"description\": \"\"\n      }\n    },\n    {\n      \"column\": \"pref_name\",\n      \"properties\": {\n        \"dtype\": \"category\",\n        \"num_unique_values\": 1,\n        \"samples\": [\n          \"HERG\"\n        ],\n        \"semantic_type\": \"\",\n        \"description\": \"\"\n      }\n    },\n    {\n      \"column\": \"tgt_chembl_id\",\n      \"properties\": {\n        \"dtype\": \"category\",\n        \"num_unique_values\": 1,\n        \"samples\": [\n          \"CHEMBL240\"\n        ],\n        \"semantic_type\": \"\",\n        \"description\": \"\"\n      }\n    },\n    {\n      \"column\": \"pIC50\",\n      \"properties\": {\n        \"dtype\": \"number\",\n        \"std\": 0.05215361924139006,\n        \"min\": -0.0,\n        \"max\": 0.11999999999953269,\n        \"num_unique_values\": 3,\n        \"samples\": [\n          -0.0\n        ],\n        \"semantic_type\": \"\",\n        \"description\": \"\"\n      }\n    }\n  ]\n}"
            }
          },
          "metadata": {},
          "execution_count": 53
        }
      ]
    },
    {
      "cell_type": "markdown",
      "source": [
        "We can plot the distribution of pIC50."
      ],
      "metadata": {
        "id": "ee6EykD8luVn"
      }
    },
    {
      "cell_type": "code",
      "source": [
        "df[\"pIC50\"].plot.hist()"
      ],
      "metadata": {
        "colab": {
          "base_uri": "https://localhost:8080/",
          "height": 268
        },
        "id": "jIXqnBvul7xv",
        "outputId": "b6f7064a-999f-4ad0-ef6b-9e36ef15759c"
      },
      "execution_count": 54,
      "outputs": [
        {
          "output_type": "execute_result",
          "data": {
            "text/plain": [
              "<Axes: ylabel='Frequency'>"
            ]
          },
          "metadata": {},
          "execution_count": 54
        },
        {
          "output_type": "display_data",
          "data": {
            "text/plain": [
              "<Figure size 200x200 with 1 Axes>"
            ],
            "image/png": "[encoded data removed]"
          },
          "metadata": {}
        }
      ]
    },
    {
      "cell_type": "markdown",
      "source": [
        "`DataFrame` essentially is a 2-D table, we can also create it by providing the data."
      ],
      "metadata": {
        "id": "Gwo7TUd2_4aA"
      }
    },
    {
      "cell_type": "code",
      "source": [
        "# a simple example of creating DataFrame\n",
        "\n",
        "import pandas as pd\n",
        "\n",
        "data = {\n",
        "  \"EC50 (nM)\": [420, 3800, 1200, 67, 10.2],\n",
        "  \"MaxDose\": [90, 80, 85, 95, 99]\n",
        "}\n",
        "\n",
        "#load data into a DataFrame object:\n",
        "df = pd.DataFrame(data)\n",
        "\n",
        "print(df)"
      ],
      "metadata": {
        "colab": {
          "base_uri": "https://localhost:8080/"
        },
        "id": "CATlZ27N9h5o",
        "outputId": "5d6a5531-b497-4f67-db88-baffc12114c2"
      },
      "execution_count": 55,
      "outputs": [
        {
          "output_type": "stream",
          "name": "stdout",
          "text": [
            "   EC50 (nM)  MaxDose\n",
            "0      420.0       90\n",
            "1     3800.0       80\n",
            "2     1200.0       85\n",
            "3       67.0       95\n",
            "4       10.2       99\n"
          ]
        }
      ]
    },
    {
      "cell_type": "markdown",
      "source": [
        "We can do data manipulation on this DataFrame object. For example, we can transform EC50 into pEC50."
      ],
      "metadata": {
        "id": "acumz2KEA1SF"
      }
    },
    {
      "cell_type": "code",
      "source": [
        "import pandas as pd\n",
        "import math\n",
        "\n",
        "data = {\n",
        "  \"EC50 (nM)\": [420, 3800, 1200, 67, 10.2],\n",
        "  \"MaxDose\": [90, 80, 85, 95, 99]\n",
        "}\n",
        "df = pd.DataFrame(data)\n",
        "\n",
        "df[\"pEC50\"] = df[\"EC50 (nM)\"].apply(lambda x: -math.log10(x*1e-9))\n",
        "\n",
        "print(df)"
      ],
      "metadata": {
        "colab": {
          "base_uri": "https://localhost:8080/"
        },
        "id": "AoCPDPFSAEi1",
        "outputId": "3c1e73d8-d4b4-4520-8ff3-188267aedde6"
      },
      "execution_count": 56,
      "outputs": [
        {
          "output_type": "stream",
          "name": "stdout",
          "text": [
            "   EC50 (nM)  MaxDose     pEC50\n",
            "0      420.0       90  6.376751\n",
            "1     3800.0       80  5.420216\n",
            "2     1200.0       85  5.920819\n",
            "3       67.0       95  7.173925\n",
            "4       10.2       99  7.991400\n"
          ]
        }
      ]
    },
    {
      "cell_type": "markdown",
      "source": [
        "Pandas also provide lots of statistic analysis tools. In the following example, we check the correlation between Biochem and Cell assay."
      ],
      "metadata": {
        "id": "NGkIo8dbBul0"
      }
    },
    {
      "cell_type": "code",
      "source": [
        "import pandas as pd\n",
        "\n",
        "data = {\n",
        "    \"Biochem EC50 (nM)\": [6.02, 96.92, 208.3, 48.8, 2043, 109.4, 39.45],\n",
        "    \"Cell EC50 (nM)\": [172.6, 525.6, 692.0, 912.2, 996.7, 1528, 1904],\n",
        "    \"ID\": [1,2,3,4,5,6,7]\n",
        "}\n",
        "\n",
        "df = pd.DataFrame(data)\n",
        "df[[\"Biochem EC50 (nM)\", \"Cell EC50 (nM)\"]].corr()\n"
      ],
      "metadata": {
        "colab": {
          "base_uri": "https://localhost:8080/",
          "height": 111
        },
        "id": "Cbzyw183Bi1S",
        "outputId": "ee791c2b-46ad-42ed-bc10-d35b349b0183"
      },
      "execution_count": 57,
      "outputs": [
        {
          "output_type": "execute_result",
          "data": {
            "text/plain": [
              "                   Biochem EC50 (nM)  Cell EC50 (nM)\n",
              "Biochem EC50 (nM)           1.000000        0.024776\n",
              "Cell EC50 (nM)              0.024776        1.000000"
            ],
            "text/html": [
              "\n",
              "  <div id=\"df-e43b45f9-931b-4955-9988-6fff87f35497\" class=\"colab-df-container\">\n",
              "    <div>\n",
              "<style scoped>\n",
              "    .dataframe tbody tr th:only-of-type {\n",
              "        vertical-align: middle;\n",
              "    }\n",
              "\n",
              "    .dataframe tbody tr th {\n",
              "        vertical-align: top;\n",
              "    }\n",
              "\n",
              "    .dataframe thead th {\n",
              "        text-align: right;\n",
              "    }\n",
              "</style>\n",
              "<table border=\"1\" class=\"dataframe\">\n",
              "  <thead>\n",
              "    <tr style=\"text-align: right;\">\n",
              "      <th></th>\n",
              "      <th>Biochem EC50 (nM)</th>\n",
              "      <th>Cell EC50 (nM)</th>\n",
              "    </tr>\n",
              "  </thead>\n",
              "  <tbody>\n",
              "    <tr>\n",
              "      <th>Biochem EC50 (nM)</th>\n",
              "      <td>1.000000</td>\n",
              "      <td>0.024776</td>\n",
              "    </tr>\n",
              "    <tr>\n",
              "      <th>Cell EC50 (nM)</th>\n",
              "      <td>0.024776</td>\n",
              "      <td>1.000000</td>\n",
              "    </tr>\n",
              "  </tbody>\n",
              "</table>\n",
              "</div>\n",
              "    <div class=\"colab-df-buttons\">\n",
              "\n",
              "  <div class=\"colab-df-container\">\n",
              "    <button class=\"colab-df-convert\" onclick=\"convertToInteractive('df-e43b45f9-931b-4955-9988-6fff87f35497')\"\n",
              "            title=\"Convert this dataframe to an interactive table.\"\n",
              "            style=\"display:none;\">\n",
              "\n",
              "  <svg xmlns=\"http://www.w3.org/2000/svg\" height=\"24px\" viewBox=\"0 -960 960 960\">\n",
              "    <path d=\"M120-120v-720h720v720H120Zm60-500h600v-160H180v160Zm220 220h160v-160H400v160Zm0 220h160v-160H400v160ZM180-400h160v-160H180v160Zm440 0h160v-160H620v160ZM180-180h160v-160H180v160Zm440 0h160v-160H620v160Z\"/>\n",
              "  </svg>\n",
              "    </button>\n",
              "\n",
              "  <style>\n",
              "    .colab-df-container {\n",
              "      display:flex;\n",
              "      gap: 12px;\n",
              "    }\n",
              "\n",
              "    .colab-df-convert {\n",
              "      background-color: #E8F0FE;\n",
              "      border: none;\n",
              "      border-radius: 50%;\n",
              "      cursor: pointer;\n",
              "      display: none;\n",
              "      fill: #1967D2;\n",
              "      height: 32px;\n",
              "      padding: 0 0 0 0;\n",
              "      width: 32px;\n",
              "    }\n",
              "\n",
              "    .colab-df-convert:hover {\n",
              "      background-color: #E2EBFA;\n",
              "      box-shadow: 0px 1px 2px rgba(60, 64, 67, 0.3), 0px 1px 3px 1px rgba(60, 64, 67, 0.15);\n",
              "      fill: #174EA6;\n",
              "    }\n",
              "\n",
              "    .colab-df-buttons div {\n",
              "      margin-bottom: 4px;\n",
              "    }\n",
              "\n",
              "    [theme=dark] .colab-df-convert {\n",
              "      background-color: #3B4455;\n",
              "      fill: #D2E3FC;\n",
              "    }\n",
              "\n",
              "    [theme=dark] .colab-df-convert:hover {\n",
              "      background-color: #434B5C;\n",
              "      box-shadow: 0px 1px 3px 1px rgba(0, 0, 0, 0.15);\n",
              "      filter: drop-shadow(0px 1px 2px rgba(0, 0, 0, 0.3));\n",
              "      fill: #FFFFFF;\n",
              "    }\n",
              "  </style>\n",
              "\n",
              "    <script>\n",
              "      const buttonEl =\n",
              "        document.querySelector('#df-e43b45f9-931b-4955-9988-6fff87f35497 button.colab-df-convert');\n",
              "      buttonEl.style.display =\n",
              "        google.colab.kernel.accessAllowed ? 'block' : 'none';\n",
              "\n",
              "      async function convertToInteractive(key) {\n",
              "        const element = document.querySelector('#df-e43b45f9-931b-4955-9988-6fff87f35497');\n",
              "        const dataTable =\n",
              "          await google.colab.kernel.invokeFunction('convertToInteractive',\n",
              "                                                    [key], {});\n",
              "        if (!dataTable) return;\n",
              "\n",
              "        const docLinkHtml = 'Like what you see? Visit the ' +\n",
              "          '<a target=\"_blank\" href=https://colab.research.google.com/notebooks/data_table.ipynb>data table notebook</a>'\n",
              "          + ' to learn more about interactive tables.';\n",
              "        element.innerHTML = '';\n",
              "        dataTable['output_type'] = 'display_data';\n",
              "        await google.colab.output.renderOutput(dataTable, element);\n",
              "        const docLink = document.createElement('div');\n",
              "        docLink.innerHTML = docLinkHtml;\n",
              "        element.appendChild(docLink);\n",
              "      }\n",
              "    </script>\n",
              "  </div>\n",
              "\n",
              "\n",
              "    <div id=\"df-c63ad265-822b-4668-8760-53494f8ed9f2\">\n",
              "      <button class=\"colab-df-quickchart\" onclick=\"quickchart('df-c63ad265-822b-4668-8760-53494f8ed9f2')\"\n",
              "                title=\"Suggest charts\"\n",
              "                style=\"display:none;\">\n",
              "\n",
              "<svg xmlns=\"http://www.w3.org/2000/svg\" height=\"24px\"viewBox=\"0 0 24 24\"\n",
              "     width=\"24px\">\n",
              "    <g>\n",
              "        <path d=\"M19 3H5c-1.1 0-2 .9-2 2v14c0 1.1.9 2 2 2h14c1.1 0 2-.9 2-2V5c0-1.1-.9-2-2-2zM9 17H7v-7h2v7zm4 0h-2V7h2v10zm4 0h-2v-4h2v4z\"/>\n",
              "    </g>\n",
              "</svg>\n",
              "      </button>\n",
              "\n",
              "<style>\n",
              "  .colab-df-quickchart {\n",
              "      --bg-color: #E8F0FE;\n",
              "      --fill-color: #1967D2;\n",
              "      --hover-bg-color: #E2EBFA;\n",
              "      --hover-fill-color: #174EA6;\n",
              "      --disabled-fill-color: #AAA;\n",
              "      --disabled-bg-color: #DDD;\n",
              "  }\n",
              "\n",
              "  [theme=dark] .colab-df-quickchart {\n",
              "      --bg-color: #3B4455;\n",
              "      --fill-color: #D2E3FC;\n",
              "      --hover-bg-color: #434B5C;\n",
              "      --hover-fill-color: #FFFFFF;\n",
              "      --disabled-bg-color: #3B4455;\n",
              "      --disabled-fill-color: #666;\n",
              "  }\n",
              "\n",
              "  .colab-df-quickchart {\n",
              "    background-color: var(--bg-color);\n",
              "    border: none;\n",
              "    border-radius: 50%;\n",
              "    cursor: pointer;\n",
              "    display: none;\n",
              "    fill: var(--fill-color);\n",
              "    height: 32px;\n",
              "    padding: 0;\n",
              "    width: 32px;\n",
              "  }\n",
              "\n",
              "  .colab-df-quickchart:hover {\n",
              "    background-color: var(--hover-bg-color);\n",
              "    box-shadow: 0 1px 2px rgba(60, 64, 67, 0.3), 0 1px 3px 1px rgba(60, 64, 67, 0.15);\n",
              "    fill: var(--button-hover-fill-color);\n",
              "  }\n",
              "\n",
              "  .colab-df-quickchart-complete:disabled,\n",
              "  .colab-df-quickchart-complete:disabled:hover {\n",
              "    background-color: var(--disabled-bg-color);\n",
              "    fill: var(--disabled-fill-color);\n",
              "    box-shadow: none;\n",
              "  }\n",
              "\n",
              "  .colab-df-spinner {\n",
              "    border: 2px solid var(--fill-color);\n",
              "    border-color: transparent;\n",
              "    border-bottom-color: var(--fill-color);\n",
              "    animation:\n",
              "      spin 1s steps(1) infinite;\n",
              "  }\n",
              "\n",
              "  @keyframes spin {\n",
              "    0% {\n",
              "      border-color: transparent;\n",
              "      border-bottom-color: var(--fill-color);\n",
              "      border-left-color: var(--fill-color);\n",
              "    }\n",
              "    20% {\n",
              "      border-color: transparent;\n",
              "      border-left-color: var(--fill-color);\n",
              "      border-top-color: var(--fill-color);\n",
              "    }\n",
              "    30% {\n",
              "      border-color: transparent;\n",
              "      border-left-color: var(--fill-color);\n",
              "      border-top-color: var(--fill-color);\n",
              "      border-right-color: var(--fill-color);\n",
              "    }\n",
              "    40% {\n",
              "      border-color: transparent;\n",
              "      border-right-color: var(--fill-color);\n",
              "      border-top-color: var(--fill-color);\n",
              "    }\n",
              "    60% {\n",
              "      border-color: transparent;\n",
              "      border-right-color: var(--fill-color);\n",
              "    }\n",
              "    80% {\n",
              "      border-color: transparent;\n",
              "      border-right-color: var(--fill-color);\n",
              "      border-bottom-color: var(--fill-color);\n",
              "    }\n",
              "    90% {\n",
              "      border-color: transparent;\n",
              "      border-bottom-color: var(--fill-color);\n",
              "    }\n",
              "  }\n",
              "</style>\n",
              "\n",
              "      <script>\n",
              "        async function quickchart(key) {\n",
              "          const quickchartButtonEl =\n",
              "            document.querySelector('#' + key + ' button');\n",
              "          quickchartButtonEl.disabled = true;  // To prevent multiple clicks.\n",
              "          quickchartButtonEl.classList.add('colab-df-spinner');\n",
              "          try {\n",
              "            const charts = await google.colab.kernel.invokeFunction(\n",
              "                'suggestCharts', [key], {});\n",
              "          } catch (error) {\n",
              "            console.error('Error during call to suggestCharts:', error);\n",
              "          }\n",
              "          quickchartButtonEl.classList.remove('colab-df-spinner');\n",
              "          quickchartButtonEl.classList.add('colab-df-quickchart-complete');\n",
              "        }\n",
              "        (() => {\n",
              "          let quickchartButtonEl =\n",
              "            document.querySelector('#df-c63ad265-822b-4668-8760-53494f8ed9f2 button');\n",
              "          quickchartButtonEl.style.display =\n",
              "            google.colab.kernel.accessAllowed ? 'block' : 'none';\n",
              "        })();\n",
              "      </script>\n",
              "    </div>\n",
              "\n",
              "    </div>\n",
              "  </div>\n"
            ],
            "application/vnd.google.colaboratory.intrinsic+json": {
              "type": "dataframe",
              "summary": "{\n  \"name\": \"df[[\\\"Biochem EC50 (nM)\\\", \\\"Cell EC50 (nM)\\\"]]\",\n  \"rows\": 2,\n  \"fields\": [\n    {\n      \"column\": \"Biochem EC50 (nM)\",\n      \"properties\": {\n        \"dtype\": \"number\",\n        \"std\": 0.6895871555137029,\n        \"min\": 0.02477649223423674,\n        \"max\": 1.0,\n        \"num_unique_values\": 2,\n        \"samples\": [\n          0.02477649223423674,\n          1.0\n        ],\n        \"semantic_type\": \"\",\n        \"description\": \"\"\n      }\n    },\n    {\n      \"column\": \"Cell EC50 (nM)\",\n      \"properties\": {\n        \"dtype\": \"number\",\n        \"std\": 0.6895871555137029,\n        \"min\": 0.02477649223423674,\n        \"max\": 1.0,\n        \"num_unique_values\": 2,\n        \"samples\": [\n          1.0,\n          0.02477649223423674\n        ],\n        \"semantic_type\": \"\",\n        \"description\": \"\"\n      }\n    }\n  ]\n}"
            }
          },
          "metadata": {},
          "execution_count": 57
        }
      ]
    },
    {
      "cell_type": "markdown",
      "source": [
        "Here we calculated the pearson correlation. `DataFrame.corr()` also provides kendall and spearman correlation. You can specify the method via `method` argument.\n",
        "\n",
        "> checkout more information on [DataFrame.corr()](https://pandas.pydata.org/docs/reference/api/pandas.DataFrame.corr.html)"
      ],
      "metadata": {
        "id": "4CQS_mKODP9Y"
      }
    },
    {
      "cell_type": "code",
      "source": [
        "df[[\"Biochem EC50 (nM)\", \"Cell EC50 (nM)\"]].corr(method=\"spearman\")"
      ],
      "metadata": {
        "colab": {
          "base_uri": "https://localhost:8080/",
          "height": 111
        },
        "id": "TffoC-EgDDF3",
        "outputId": "a8c91dc9-a4ed-4b1a-dd90-d8ff2f5e5a12"
      },
      "execution_count": 58,
      "outputs": [
        {
          "output_type": "execute_result",
          "data": {
            "text/plain": [
              "                   Biochem EC50 (nM)  Cell EC50 (nM)\n",
              "Biochem EC50 (nM)           1.000000        0.214286\n",
              "Cell EC50 (nM)              0.214286        1.000000"
            ],
            "text/html": [
              "\n",
              "  <div id=\"df-cec4e454-e34c-4b6e-aadf-02b3b2f3f5c9\" class=\"colab-df-container\">\n",
              "    <div>\n",
              "<style scoped>\n",
              "    .dataframe tbody tr th:only-of-type {\n",
              "        vertical-align: middle;\n",
              "    }\n",
              "\n",
              "    .dataframe tbody tr th {\n",
              "        vertical-align: top;\n",
              "    }\n",
              "\n",
              "    .dataframe thead th {\n",
              "        text-align: right;\n",
              "    }\n",
              "</style>\n",
              "<table border=\"1\" class=\"dataframe\">\n",
              "  <thead>\n",
              "    <tr style=\"text-align: right;\">\n",
              "      <th></th>\n",
              "      <th>Biochem EC50 (nM)</th>\n",
              "      <th>Cell EC50 (nM)</th>\n",
              "    </tr>\n",
              "  </thead>\n",
              "  <tbody>\n",
              "    <tr>\n",
              "      <th>Biochem EC50 (nM)</th>\n",
              "      <td>1.000000</td>\n",
              "      <td>0.214286</td>\n",
              "    </tr>\n",
              "    <tr>\n",
              "      <th>Cell EC50 (nM)</th>\n",
              "      <td>0.214286</td>\n",
              "      <td>1.000000</td>\n",
              "    </tr>\n",
              "  </tbody>\n",
              "</table>\n",
              "</div>\n",
              "    <div class=\"colab-df-buttons\">\n",
              "\n",
              "  <div class=\"colab-df-container\">\n",
              "    <button class=\"colab-df-convert\" onclick=\"convertToInteractive('df-cec4e454-e34c-4b6e-aadf-02b3b2f3f5c9')\"\n",
              "            title=\"Convert this dataframe to an interactive table.\"\n",
              "            style=\"display:none;\">\n",
              "\n",
              "  <svg xmlns=\"http://www.w3.org/2000/svg\" height=\"24px\" viewBox=\"0 -960 960 960\">\n",
              "    <path d=\"M120-120v-720h720v720H120Zm60-500h600v-160H180v160Zm220 220h160v-160H400v160Zm0 220h160v-160H400v160ZM180-400h160v-160H180v160Zm440 0h160v-160H620v160ZM180-180h160v-160H180v160Zm440 0h160v-160H620v160Z\"/>\n",
              "  </svg>\n",
              "    </button>\n",
              "\n",
              "  <style>\n",
              "    .colab-df-container {\n",
              "      display:flex;\n",
              "      gap: 12px;\n",
              "    }\n",
              "\n",
              "    .colab-df-convert {\n",
              "      background-color: #E8F0FE;\n",
              "      border: none;\n",
              "      border-radius: 50%;\n",
              "      cursor: pointer;\n",
              "      display: none;\n",
              "      fill: #1967D2;\n",
              "      height: 32px;\n",
              "      padding: 0 0 0 0;\n",
              "      width: 32px;\n",
              "    }\n",
              "\n",
              "    .colab-df-convert:hover {\n",
              "      background-color: #E2EBFA;\n",
              "      box-shadow: 0px 1px 2px rgba(60, 64, 67, 0.3), 0px 1px 3px 1px rgba(60, 64, 67, 0.15);\n",
              "      fill: #174EA6;\n",
              "    }\n",
              "\n",
              "    .colab-df-buttons div {\n",
              "      margin-bottom: 4px;\n",
              "    }\n",
              "\n",
              "    [theme=dark] .colab-df-convert {\n",
              "      background-color: #3B4455;\n",
              "      fill: #D2E3FC;\n",
              "    }\n",
              "\n",
              "    [theme=dark] .colab-df-convert:hover {\n",
              "      background-color: #434B5C;\n",
              "      box-shadow: 0px 1px 3px 1px rgba(0, 0, 0, 0.15);\n",
              "      filter: drop-shadow(0px 1px 2px rgba(0, 0, 0, 0.3));\n",
              "      fill: #FFFFFF;\n",
              "    }\n",
              "  </style>\n",
              "\n",
              "    <script>\n",
              "      const buttonEl =\n",
              "        document.querySelector('#df-cec4e454-e34c-4b6e-aadf-02b3b2f3f5c9 button.colab-df-convert');\n",
              "      buttonEl.style.display =\n",
              "        google.colab.kernel.accessAllowed ? 'block' : 'none';\n",
              "\n",
              "      async function convertToInteractive(key) {\n",
              "        const element = document.querySelector('#df-cec4e454-e34c-4b6e-aadf-02b3b2f3f5c9');\n",
              "        const dataTable =\n",
              "          await google.colab.kernel.invokeFunction('convertToInteractive',\n",
              "                                                    [key], {});\n",
              "        if (!dataTable) return;\n",
              "\n",
              "        const docLinkHtml = 'Like what you see? Visit the ' +\n",
              "          '<a target=\"_blank\" href=https://colab.research.google.com/notebooks/data_table.ipynb>data table notebook</a>'\n",
              "          + ' to learn more about interactive tables.';\n",
              "        element.innerHTML = '';\n",
              "        dataTable['output_type'] = 'display_data';\n",
              "        await google.colab.output.renderOutput(dataTable, element);\n",
              "        const docLink = document.createElement('div');\n",
              "        docLink.innerHTML = docLinkHtml;\n",
              "        element.appendChild(docLink);\n",
              "      }\n",
              "    </script>\n",
              "  </div>\n",
              "\n",
              "\n",
              "    <div id=\"df-5d4a555e-ecf1-4ee6-aaa9-b9f25ecaa089\">\n",
              "      <button class=\"colab-df-quickchart\" onclick=\"quickchart('df-5d4a555e-ecf1-4ee6-aaa9-b9f25ecaa089')\"\n",
              "                title=\"Suggest charts\"\n",
              "                style=\"display:none;\">\n",
              "\n",
              "<svg xmlns=\"http://www.w3.org/2000/svg\" height=\"24px\"viewBox=\"0 0 24 24\"\n",
              "     width=\"24px\">\n",
              "    <g>\n",
              "        <path d=\"M19 3H5c-1.1 0-2 .9-2 2v14c0 1.1.9 2 2 2h14c1.1 0 2-.9 2-2V5c0-1.1-.9-2-2-2zM9 17H7v-7h2v7zm4 0h-2V7h2v10zm4 0h-2v-4h2v4z\"/>\n",
              "    </g>\n",
              "</svg>\n",
              "      </button>\n",
              "\n",
              "<style>\n",
              "  .colab-df-quickchart {\n",
              "      --bg-color: #E8F0FE;\n",
              "      --fill-color: #1967D2;\n",
              "      --hover-bg-color: #E2EBFA;\n",
              "      --hover-fill-color: #174EA6;\n",
              "      --disabled-fill-color: #AAA;\n",
              "      --disabled-bg-color: #DDD;\n",
              "  }\n",
              "\n",
              "  [theme=dark] .colab-df-quickchart {\n",
              "      --bg-color: #3B4455;\n",
              "      --fill-color: #D2E3FC;\n",
              "      --hover-bg-color: #434B5C;\n",
              "      --hover-fill-color: #FFFFFF;\n",
              "      --disabled-bg-color: #3B4455;\n",
              "      --disabled-fill-color: #666;\n",
              "  }\n",
              "\n",
              "  .colab-df-quickchart {\n",
              "    background-color: var(--bg-color);\n",
              "    border: none;\n",
              "    border-radius: 50%;\n",
              "    cursor: pointer;\n",
              "    display: none;\n",
              "    fill: var(--fill-color);\n",
              "    height: 32px;\n",
              "    padding: 0;\n",
              "    width: 32px;\n",
              "  }\n",
              "\n",
              "  .colab-df-quickchart:hover {\n",
              "    background-color: var(--hover-bg-color);\n",
              "    box-shadow: 0 1px 2px rgba(60, 64, 67, 0.3), 0 1px 3px 1px rgba(60, 64, 67, 0.15);\n",
              "    fill: var(--button-hover-fill-color);\n",
              "  }\n",
              "\n",
              "  .colab-df-quickchart-complete:disabled,\n",
              "  .colab-df-quickchart-complete:disabled:hover {\n",
              "    background-color: var(--disabled-bg-color);\n",
              "    fill: var(--disabled-fill-color);\n",
              "    box-shadow: none;\n",
              "  }\n",
              "\n",
              "  .colab-df-spinner {\n",
              "    border: 2px solid var(--fill-color);\n",
              "    border-color: transparent;\n",
              "    border-bottom-color: var(--fill-color);\n",
              "    animation:\n",
              "      spin 1s steps(1) infinite;\n",
              "  }\n",
              "\n",
              "  @keyframes spin {\n",
              "    0% {\n",
              "      border-color: transparent;\n",
              "      border-bottom-color: var(--fill-color);\n",
              "      border-left-color: var(--fill-color);\n",
              "    }\n",
              "    20% {\n",
              "      border-color: transparent;\n",
              "      border-left-color: var(--fill-color);\n",
              "      border-top-color: var(--fill-color);\n",
              "    }\n",
              "    30% {\n",
              "      border-color: transparent;\n",
              "      border-left-color: var(--fill-color);\n",
              "      border-top-color: var(--fill-color);\n",
              "      border-right-color: var(--fill-color);\n",
              "    }\n",
              "    40% {\n",
              "      border-color: transparent;\n",
              "      border-right-color: var(--fill-color);\n",
              "      border-top-color: var(--fill-color);\n",
              "    }\n",
              "    60% {\n",
              "      border-color: transparent;\n",
              "      border-right-color: var(--fill-color);\n",
              "    }\n",
              "    80% {\n",
              "      border-color: transparent;\n",
              "      border-right-color: var(--fill-color);\n",
              "      border-bottom-color: var(--fill-color);\n",
              "    }\n",
              "    90% {\n",
              "      border-color: transparent;\n",
              "      border-bottom-color: var(--fill-color);\n",
              "    }\n",
              "  }\n",
              "</style>\n",
              "\n",
              "      <script>\n",
              "        async function quickchart(key) {\n",
              "          const quickchartButtonEl =\n",
              "            document.querySelector('#' + key + ' button');\n",
              "          quickchartButtonEl.disabled = true;  // To prevent multiple clicks.\n",
              "          quickchartButtonEl.classList.add('colab-df-spinner');\n",
              "          try {\n",
              "            const charts = await google.colab.kernel.invokeFunction(\n",
              "                'suggestCharts', [key], {});\n",
              "          } catch (error) {\n",
              "            console.error('Error during call to suggestCharts:', error);\n",
              "          }\n",
              "          quickchartButtonEl.classList.remove('colab-df-spinner');\n",
              "          quickchartButtonEl.classList.add('colab-df-quickchart-complete');\n",
              "        }\n",
              "        (() => {\n",
              "          let quickchartButtonEl =\n",
              "            document.querySelector('#df-5d4a555e-ecf1-4ee6-aaa9-b9f25ecaa089 button');\n",
              "          quickchartButtonEl.style.display =\n",
              "            google.colab.kernel.accessAllowed ? 'block' : 'none';\n",
              "        })();\n",
              "      </script>\n",
              "    </div>\n",
              "\n",
              "    </div>\n",
              "  </div>\n"
            ],
            "application/vnd.google.colaboratory.intrinsic+json": {
              "type": "dataframe",
              "summary": "{\n  \"name\": \"df[[\\\"Biochem EC50 (nM)\\\", \\\"Cell EC50 (nM)\\\"]]\",\n  \"rows\": 2,\n  \"fields\": [\n    {\n      \"column\": \"Biochem EC50 (nM)\",\n      \"properties\": {\n        \"dtype\": \"number\",\n        \"std\": 0.5555838995037159,\n        \"min\": 0.21428571428571427,\n        \"max\": 1.0,\n        \"num_unique_values\": 2,\n        \"samples\": [\n          0.21428571428571427,\n          1.0\n        ],\n        \"semantic_type\": \"\",\n        \"description\": \"\"\n      }\n    },\n    {\n      \"column\": \"Cell EC50 (nM)\",\n      \"properties\": {\n        \"dtype\": \"number\",\n        \"std\": 0.5555838995037159,\n        \"min\": 0.21428571428571427,\n        \"max\": 1.0,\n        \"num_unique_values\": 2,\n        \"samples\": [\n          1.0,\n          0.21428571428571427\n        ],\n        \"semantic_type\": \"\",\n        \"description\": \"\"\n      }\n    }\n  ]\n}"
            }
          },
          "metadata": {},
          "execution_count": 58
        }
      ]
    },
    {
      "cell_type": "markdown",
      "source": [
        "We can plot the data in scatter plot in DataFrame.plot function. This is a wrapper of the `matplotlib.plot`, and provides you a quick look at the data."
      ],
      "metadata": {
        "id": "LA9hEB8tD9v3"
      }
    },
    {
      "cell_type": "code",
      "source": [
        "df.plot.scatter(x=\"Biochem EC50 (nM)\", y=\"Cell EC50 (nM)\", logx=True, logy=True)"
      ],
      "metadata": {
        "colab": {
          "base_uri": "https://localhost:8080/",
          "height": 293
        },
        "id": "caEpc0STD0uT",
        "outputId": "aff86e81-9213-49c2-df52-d2f4b3bc7443"
      },
      "execution_count": 59,
      "outputs": [
        {
          "output_type": "execute_result",
          "data": {
            "text/plain": [
              "<Axes: xlabel='Biochem EC50 (nM)', ylabel='Cell EC50 (nM)'>"
            ]
          },
          "metadata": {},
          "execution_count": 59
        },
        {
          "output_type": "display_data",
          "data": {
            "text/plain": [
              "<Figure size 200x200 with 1 Axes>"
            ],
            "image/png": "[encoded data removed]"
          },
          "metadata": {}
        }
      ]
    },
    {
      "cell_type": "code",
      "source": [],
      "metadata": {
        "id": "IDy3L6kIEBQK"
      },
      "execution_count": null,
      "outputs": []
    }
  ]
}